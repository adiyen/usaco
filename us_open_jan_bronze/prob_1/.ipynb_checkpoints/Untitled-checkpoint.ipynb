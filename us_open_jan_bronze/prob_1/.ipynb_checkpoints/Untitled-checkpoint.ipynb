{
 "cells": [
  {
   "cell_type": "code",
   "execution_count": 5,
   "metadata": {},
   "outputs": [
    {
     "name": "stdout",
     "output_type": "stream",
     "text": [
      "prev: 9 pos: 10\n",
      "prev: 10 pos: 7\n",
      "prev: 7 pos: 13\n",
      "prev: 13 pos: 1\n"
     ]
    }
   ],
   "source": [
    "with open(\"lostcow.in\", \"r\") as fin:\n",
    "    line = fin.readline().strip().split(\" \")\n",
    "    x = int(line[0]); y = int(line[1])\n",
    "\n",
    "\n",
    "farm_pos = x\n",
    "counter = 1\n",
    "steps = 0\n",
    "prev_farm_pos = 0\n",
    "if farm_pos < y:\n",
    "    while farm_pos < y:\n",
    "        prev_farm_pos = farm_pos\n",
    "        farm_pos = x+counter\n",
    "        print(\"prev:\", prev_farm_pos, \"pos:\", farm_pos)\n",
    "        steps+=abs(farm_pos-prev_farm_pos)\n",
    "        #print(\"steps:\", steps)\n",
    "\n",
    "        counter*=-2\n",
    "        \n",
    "elif farm_pos > y:\n",
    "    while farm_pos > y:\n",
    "        prev_farm_pos = farm_pos\n",
    "        farm_pos = x+counter\n",
    "        print(\"prev:\", prev_farm_pos, \"pos:\", farm_pos)\n",
    "        steps+=abs(farm_pos-prev_farm_pos)\n",
    "        #print(\"steps:\", steps)\n",
    "\n",
    "        counter*=-2\n",
    "#print(farm_pos)\n",
    "\n",
    "steps-=abs(farm_pos-y)\n",
    "#print(steps)\n",
    "with open(\"lostcow.out\", \"w\") as fout:\n",
    "    fout.write(str(steps))\n",
    "#     print(steps)\n",
    "\n"
   ]
  },
  {
   "cell_type": "code",
   "execution_count": null,
   "metadata": {},
   "outputs": [],
   "source": []
  }
 ],
 "metadata": {
  "kernelspec": {
   "display_name": "Python 3",
   "language": "python",
   "name": "python3"
  },
  "language_info": {
   "codemirror_mode": {
    "name": "ipython",
    "version": 3
   },
   "file_extension": ".py",
   "mimetype": "text/x-python",
   "name": "python",
   "nbconvert_exporter": "python",
   "pygments_lexer": "ipython3",
   "version": "3.7.1"
  }
 },
 "nbformat": 4,
 "nbformat_minor": 2
}

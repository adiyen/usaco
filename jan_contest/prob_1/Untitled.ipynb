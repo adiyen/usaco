{
 "cells": [
  {
   "cell_type": "markdown",
   "metadata": {},
   "source": [
    "Problem #1"
   ]
  },
  {
   "cell_type": "code",
   "execution_count": 74,
   "metadata": {},
   "outputs": [],
   "source": [
    "answers = []\n",
    "    \n",
    "def runner(shells, a, b, g, points):\n",
    "    fin = open(\"shell.in\", \"r\")\n",
    "    numb = int(fin.readline())\n",
    "    \n",
    "    for j in range(numb):\n",
    "        line = fin.readline().strip().split(\" \")\n",
    "        a = int(line[0]); b = int(line[1]); g = int(line[2])\n",
    "\n",
    "        storage = shells[a-1]\n",
    "        shells[a-1] = shells[b-1]\n",
    "        shells[b-1] = storage\n",
    "\n",
    "        if shells[g-1] == True:\n",
    "            points+=1\n",
    "            \n",
    "    fin.close() \n",
    "    return points\n",
    "\n",
    "    \n",
    "for i in range(3):\n",
    "    points = 0\n",
    "    \n",
    "    shells[0] = False; shells[1] = False; shells[2] = False\n",
    "    shells[i] = True\n",
    "    \n",
    "    points = runner(shells, a, b, g, points)\n",
    "    answers.append(points)\n",
    "    \n",
    "with open(\"shell.out\", \"w\") as fout:\n",
    "    fout.write(str(max(answers)))\n",
    "        "
   ]
  },
  {
   "cell_type": "code",
   "execution_count": 72,
   "metadata": {},
   "outputs": [
    {
     "data": {
      "text/plain": [
       "[False, True, False]"
      ]
     },
     "execution_count": 72,
     "metadata": {},
     "output_type": "execute_result"
    }
   ],
   "source": [
    "shells"
   ]
  },
  {
   "cell_type": "code",
   "execution_count": null,
   "metadata": {},
   "outputs": [],
   "source": []
  }
 ],
 "metadata": {
  "kernelspec": {
   "display_name": "Python 3",
   "language": "python",
   "name": "python3"
  },
  "language_info": {
   "codemirror_mode": {
    "name": "ipython",
    "version": 3
   },
   "file_extension": ".py",
   "mimetype": "text/x-python",
   "name": "python",
   "nbconvert_exporter": "python",
   "pygments_lexer": "ipython3",
   "version": "3.7.1"
  }
 },
 "nbformat": 4,
 "nbformat_minor": 2
}

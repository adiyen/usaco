{
 "cells": [
  {
   "cell_type": "code",
   "execution_count": 313,
   "metadata": {},
   "outputs": [],
   "source": [
    "list_arr = []\n",
    "numbs = []\n",
    "\n",
    "with open(\"guess.in\" , \"r\") as fin:\n",
    "    numb_ani = int(fin.readline().strip())\n",
    "    \n",
    "    for i in range(numb_ani):\n",
    "        line = fin.readline().strip().split(\" \")\n",
    "        numb_of_chars = int(line[1])\n",
    "        numbs.append(numb_of_chars)\n",
    "        \n",
    "        for j in range(numb_of_chars):\n",
    "            list_arr.append(line[2+j])\n",
    "\n",
    "#print(list_arr)\n",
    "\n",
    "def common_features(a1, a2):\n",
    "    counter = 0\n",
    "    for i in range(len(a1)):\n",
    "        if a1[i] in a2:\n",
    "            counter+=1\n",
    "            \n",
    "    if counter >= len(a2):\n",
    "        return 0\n",
    "    return counter\n",
    "\n",
    "a1_sum = 0\n",
    "answers = []\n",
    "for i in range(numb_ani):\n",
    "    sum_numbs = 0\n",
    "    similars = []\n",
    "\n",
    "    a1, a2 = [], []\n",
    "\n",
    "    for j in range(numbs[i]):\n",
    "        a1.append(list_arr[a1_sum+j])\n",
    "\n",
    "    for l in range(numb_ani):\n",
    "        a2 = []\n",
    "        \n",
    "        \n",
    "        \n",
    "        for k in range(numbs[l]):\n",
    "            a2.append(list_arr[sum_numbs+k])\n",
    "        if a1 != a2:\n",
    "            #print(a1, a2)\n",
    "            similar = common_features(a1, a2)\n",
    "            #print(similar)\n",
    "            similars.append(similar)\n",
    "        sum_numbs+=numbs[l]\n",
    "    a1_sum+=numbs[i]\n",
    "    \n",
    "    answers.append(max(similars))\n",
    "            \n",
    "with open(\"guess.out\", \"w\") as fout:\n",
    "    fout.write(str(max(similars)+1))"
   ]
  },
  {
   "cell_type": "code",
   "execution_count": 304,
   "metadata": {},
   "outputs": [],
   "source": [
    "def common_features(a1, a2):\n",
    "    counter = 0\n",
    "\n",
    "    \n",
    "    for i in range(len(a1)):\n",
    "        if a1[i] in a2:\n",
    "            counter+=1\n",
    "    if counter >= len(a2):\n",
    "        return 0\n",
    "    return counter"
   ]
  },
  {
   "cell_type": "code",
   "execution_count": 305,
   "metadata": {},
   "outputs": [
    {
     "name": "stdout",
     "output_type": "stream",
     "text": [
      "['flies', 'eatsgrass'] ['eatsgrass', 'isawesome', 'makesmilk', 'goesmoo']\n",
      "['flies', 'eatsgrass'] ['eatsgrass']\n",
      "['flies', 'eatsgrass'] ['makesmilk', 'eatsgrass']\n",
      "['eatsgrass', 'isawesome', 'makesmilk', 'goesmoo'] ['flies', 'eatsgrass']\n",
      "['eatsgrass', 'isawesome', 'makesmilk', 'goesmoo'] ['eatsgrass']\n",
      "['eatsgrass', 'isawesome', 'makesmilk', 'goesmoo'] ['makesmilk', 'eatsgrass']\n",
      "['eatsgrass'] ['flies', 'eatsgrass']\n",
      "['eatsgrass'] ['eatsgrass', 'isawesome', 'makesmilk', 'goesmoo']\n",
      "['eatsgrass'] ['makesmilk', 'eatsgrass']\n",
      "['makesmilk', 'eatsgrass'] ['flies', 'eatsgrass']\n",
      "['makesmilk', 'eatsgrass'] ['eatsgrass', 'isawesome', 'makesmilk', 'goesmoo']\n",
      "['makesmilk', 'eatsgrass'] ['eatsgrass']\n"
     ]
    }
   ],
   "source": [
    "a1_sum = 0\n",
    "answers = []\n",
    "for i in range(numb_ani):\n",
    "    sum_numbs = 0\n",
    "    similars = []\n",
    "\n",
    "    a1, a2 = [], []\n",
    "\n",
    "    for j in range(numbs[i]):\n",
    "        a1.append(list_arr[a1_sum+j])\n",
    "\n",
    "    for l in range(numb_ani):\n",
    "        a2 = []\n",
    "        for k in range(numbs[l]):\n",
    "            a2.append(list_arr[sum_numbs+k])\n",
    "        if a1 != a2:\n",
    "            print(a1, a2)\n",
    "            similar = common_features(a1, a2)\n",
    "            similars.append(similar)\n",
    "        sum_numbs+=numbs[l]\n",
    "    a1_sum+=numbs[i]\n",
    "    \n",
    "    answers.append(max(similars))"
   ]
  },
  {
   "cell_type": "code",
   "execution_count": 306,
   "metadata": {},
   "outputs": [
    {
     "data": {
      "text/plain": [
       "[1, 1, 1, 2]"
      ]
     },
     "execution_count": 306,
     "metadata": {},
     "output_type": "execute_result"
    }
   ],
   "source": [
    "answers"
   ]
  },
  {
   "cell_type": "code",
   "execution_count": 307,
   "metadata": {},
   "outputs": [
    {
     "data": {
      "text/plain": [
       "[2, 4, 1, 2]"
      ]
     },
     "execution_count": 307,
     "metadata": {},
     "output_type": "execute_result"
    }
   ],
   "source": [
    "numbs"
   ]
  },
  {
   "cell_type": "code",
   "execution_count": 308,
   "metadata": {},
   "outputs": [
    {
     "data": {
      "text/plain": [
       "['makesmilk', 'eatsgrass']"
      ]
     },
     "execution_count": 308,
     "metadata": {},
     "output_type": "execute_result"
    }
   ],
   "source": [
    "a1"
   ]
  },
  {
   "cell_type": "code",
   "execution_count": 199,
   "metadata": {},
   "outputs": [],
   "source": [
    "a = [1, 2, 3]\n",
    "b = a"
   ]
  },
  {
   "cell_type": "code",
   "execution_count": 200,
   "metadata": {},
   "outputs": [
    {
     "data": {
      "text/plain": [
       "[1, 2, 3]"
      ]
     },
     "execution_count": 200,
     "metadata": {},
     "output_type": "execute_result"
    }
   ],
   "source": [
    "a"
   ]
  },
  {
   "cell_type": "code",
   "execution_count": 201,
   "metadata": {},
   "outputs": [
    {
     "data": {
      "text/plain": [
       "[1, 2, 3]"
      ]
     },
     "execution_count": 201,
     "metadata": {},
     "output_type": "execute_result"
    }
   ],
   "source": [
    "b"
   ]
  },
  {
   "cell_type": "code",
   "execution_count": 202,
   "metadata": {},
   "outputs": [
    {
     "data": {
      "text/plain": [
       "3"
      ]
     },
     "execution_count": 202,
     "metadata": {},
     "output_type": "execute_result"
    }
   ],
   "source": [
    "a.pop()"
   ]
  },
  {
   "cell_type": "code",
   "execution_count": 203,
   "metadata": {},
   "outputs": [
    {
     "data": {
      "text/plain": [
       "[1, 2]"
      ]
     },
     "execution_count": 203,
     "metadata": {},
     "output_type": "execute_result"
    }
   ],
   "source": [
    "b"
   ]
  },
  {
   "cell_type": "code",
   "execution_count": 204,
   "metadata": {},
   "outputs": [
    {
     "data": {
      "text/plain": [
       "4551768392"
      ]
     },
     "execution_count": 204,
     "metadata": {},
     "output_type": "execute_result"
    }
   ],
   "source": [
    "id(a)"
   ]
  },
  {
   "cell_type": "code",
   "execution_count": 205,
   "metadata": {},
   "outputs": [
    {
     "data": {
      "text/plain": [
       "4551768392"
      ]
     },
     "execution_count": 205,
     "metadata": {},
     "output_type": "execute_result"
    }
   ],
   "source": [
    "id(b)"
   ]
  },
  {
   "cell_type": "code",
   "execution_count": 206,
   "metadata": {},
   "outputs": [],
   "source": [
    "a = [1, 2, 3]\n",
    "b = [1, 2, 3]"
   ]
  },
  {
   "cell_type": "code",
   "execution_count": 207,
   "metadata": {},
   "outputs": [
    {
     "data": {
      "text/plain": [
       "(4551285384, 4551306952)"
      ]
     },
     "execution_count": 207,
     "metadata": {},
     "output_type": "execute_result"
    }
   ],
   "source": [
    "id(a), id(b)"
   ]
  },
  {
   "cell_type": "code",
   "execution_count": 208,
   "metadata": {},
   "outputs": [],
   "source": [
    "b = a"
   ]
  },
  {
   "cell_type": "code",
   "execution_count": 209,
   "metadata": {},
   "outputs": [
    {
     "data": {
      "text/plain": [
       "4551285384"
      ]
     },
     "execution_count": 209,
     "metadata": {},
     "output_type": "execute_result"
    }
   ],
   "source": [
    "id(b)"
   ]
  },
  {
   "cell_type": "code",
   "execution_count": null,
   "metadata": {},
   "outputs": [],
   "source": [
    "bird 2 flies eatsgrass\n",
    "cow 4 eatsgrass isawesome makesmilk goesmoo\n",
    "sheep 1 eatsgrass\n",
    "goat 2 makesmilk eatsgrass"
   ]
  },
  {
   "cell_type": "code",
   "execution_count": 271,
   "metadata": {},
   "outputs": [
    {
     "data": {
      "text/plain": [
       "{'bird': ['flies', 'eatsgrass'], 'cow': []}"
      ]
     },
     "execution_count": 271,
     "metadata": {},
     "output_type": "execute_result"
    }
   ],
   "source": [
    "{\n",
    "    \"bird\": [\"flies\", \"eatsgrass\"],\n",
    "    \"cow\": []\n",
    "}"
   ]
  },
  {
   "cell_type": "code",
   "execution_count": null,
   "metadata": {},
   "outputs": [],
   "source": []
  },
  {
   "cell_type": "code",
   "execution_count": 300,
   "metadata": {},
   "outputs": [
    {
     "name": "stdout",
     "output_type": "stream",
     "text": [
      "False\n"
     ]
    }
   ],
   "source": [
    "a = [\"hi\", \"sad\", \"bye\"]\n",
    "b = [\"hi\", \"sad\"]\n",
    "print(b == a)"
   ]
  },
  {
   "cell_type": "code",
   "execution_count": 380,
   "metadata": {},
   "outputs": [],
   "source": [
    "def num_counter(i, j, entire_list, animals):\n",
    "    count = 0\n",
    "    a1 = entire_list[animals[i]]\n",
    "    a2 = entire_list[animals[j]]\n",
    "\n",
    "    for k in range(len(a1)):\n",
    "        for l in range(len(a2)):\n",
    "            if a1[k] == a2[l]:\n",
    "                count+=1\n",
    "    return count\n",
    "    \n",
    "entire_list = dict()\n",
    "numbs = []\n",
    "animals = []\n",
    "\n",
    "with open(\"guess.in\" , \"r\") as fin:\n",
    "    numb_ani = int(fin.readline().strip())\n",
    "    \n",
    "    for i in range(numb_ani):\n",
    "        list_arr = []\n",
    "        \n",
    "        line = fin.readline().strip().split(\" \")\n",
    "        numb_of_chars = int(line[1])\n",
    "        numbs.append(numb_of_chars)\n",
    "        \n",
    "        for j in range(numb_of_chars):\n",
    "            list_arr.append(line[2+j])\n",
    "        entire_list[line[0]] = list_arr\n",
    "        animals.append(line[0])\n",
    "            \n",
    "    largest = 0\n",
    "    for i in range(numb_ani):\n",
    "        for j in range(i+1, numb_ani):\n",
    "            largest = max(largest, num_counter(i, j, entire_list, animals))\n",
    "            \n",
    "with open(\"guess.out\", \"w\") as fout:\n",
    "    fout.write(str(largest+1))"
   ]
  },
  {
   "cell_type": "code",
   "execution_count": 378,
   "metadata": {},
   "outputs": [
    {
     "data": {
      "text/plain": [
       "2"
      ]
     },
     "execution_count": 378,
     "metadata": {},
     "output_type": "execute_result"
    }
   ],
   "source": [
    "largest"
   ]
  },
  {
   "cell_type": "code",
   "execution_count": 373,
   "metadata": {},
   "outputs": [
    {
     "data": {
      "text/plain": [
       "{'bird': ['flies', 'eatsgrass'],\n",
       " 'cow': ['eatsgrass', 'isawesome', 'makesmilk', 'goesmoo'],\n",
       " 'sheep': ['eatsgrass'],\n",
       " 'goat': ['makesmilk', 'eatsgrass']}"
      ]
     },
     "execution_count": 373,
     "metadata": {},
     "output_type": "execute_result"
    }
   ],
   "source": [
    "entire_list"
   ]
  },
  {
   "cell_type": "code",
   "execution_count": 374,
   "metadata": {},
   "outputs": [
    {
     "data": {
      "text/plain": [
       "['bird', 'cow', 'sheep', 'goat']"
      ]
     },
     "execution_count": 374,
     "metadata": {},
     "output_type": "execute_result"
    }
   ],
   "source": [
    "animals"
   ]
  },
  {
   "cell_type": "code",
   "execution_count": 31,
   "metadata": {},
   "outputs": [
    {
     "data": {
      "text/plain": [
       "['bird', 'cow', 'sheep', 'goat']"
      ]
     },
     "execution_count": 31,
     "metadata": {},
     "output_type": "execute_result"
    }
   ],
   "source": [
    "animals"
   ]
  },
  {
   "cell_type": "code",
   "execution_count": 41,
   "metadata": {},
   "outputs": [
    {
     "ename": "TypeError",
     "evalue": "same_checker() missing 1 required positional argument: 'animals'",
     "output_type": "error",
     "traceback": [
      "\u001b[0;31m---------------------------------------------------------------------------\u001b[0m",
      "\u001b[0;31mTypeError\u001b[0m                                 Traceback (most recent call last)",
      "\u001b[0;32m<ipython-input-41-5d091f5a3a8e>\u001b[0m in \u001b[0;36m<module>\u001b[0;34m\u001b[0m\n\u001b[1;32m     52\u001b[0m     \u001b[0;32mfor\u001b[0m \u001b[0ma2\u001b[0m \u001b[0;32min\u001b[0m \u001b[0manimals\u001b[0m\u001b[0;34m:\u001b[0m\u001b[0;34m\u001b[0m\u001b[0;34m\u001b[0m\u001b[0m\n\u001b[1;32m     53\u001b[0m         \u001b[0;32mif\u001b[0m \u001b[0ma1\u001b[0m \u001b[0;34m!=\u001b[0m \u001b[0ma2\u001b[0m\u001b[0;34m:\u001b[0m\u001b[0;34m\u001b[0m\u001b[0;34m\u001b[0m\u001b[0m\n\u001b[0;32m---> 54\u001b[0;31m             \u001b[0mnumb\u001b[0m \u001b[0;34m=\u001b[0m \u001b[0msame_checker\u001b[0m\u001b[0;34m(\u001b[0m\u001b[0mentire_list\u001b[0m\u001b[0;34m[\u001b[0m\u001b[0ma1\u001b[0m\u001b[0;34m]\u001b[0m\u001b[0;34m,\u001b[0m \u001b[0mentire_list\u001b[0m\u001b[0;34m[\u001b[0m\u001b[0ma2\u001b[0m\u001b[0;34m]\u001b[0m\u001b[0;34m,\u001b[0m \u001b[0manimals\u001b[0m\u001b[0;34m)\u001b[0m\u001b[0;34m\u001b[0m\u001b[0;34m\u001b[0m\u001b[0m\n\u001b[0m\u001b[1;32m     55\u001b[0m             \u001b[0mprint\u001b[0m\u001b[0;34m(\u001b[0m\u001b[0ma1\u001b[0m\u001b[0;34m,\u001b[0m \u001b[0mnumb\u001b[0m\u001b[0;34m)\u001b[0m\u001b[0;34m\u001b[0m\u001b[0;34m\u001b[0m\u001b[0m\n",
      "\u001b[0;31mTypeError\u001b[0m: same_checker() missing 1 required positional argument: 'animals'"
     ]
    }
   ],
   "source": [
    "def same_checker(a1, a2):\n",
    "    count = 0\n",
    "\n",
    "    for k in range(len(a1)):\n",
    "        if a1[k] in a2:\n",
    "            count+=1\n",
    "    return count\n",
    "    \n",
    "entire_list = dict()\n",
    "animals = []\n",
    "\n",
    "# {\n",
    "#     \"bird\": [f1, f2],\n",
    "#     \"cow\": [f1, f3, f4]\n",
    "# }\n",
    "\n",
    "# {\n",
    "#     \"bird\": {\n",
    "#         \"f1\": True,\n",
    "#         \"f2\": True\n",
    "#     },\n",
    "#     \"cow\": {\n",
    "#         \"f1\": True,\n",
    "#         \"f3\": True,\n",
    "#         \"f4\": True\n",
    "#     }\n",
    "# }\n",
    "\n",
    "\n",
    "        \n",
    "\n",
    "\n",
    "with open(\"guess.in\" , \"r\") as fin:\n",
    "    numb_ani = int(fin.readline().strip())\n",
    "    \n",
    "    for i in range(numb_ani):\n",
    "        list_arr = []\n",
    "        \n",
    "        line = fin.readline().strip().split(\" \")\n",
    "        numb_of_chars = int(line[1])\n",
    "        \n",
    "        for j in range(numb_of_chars):\n",
    "            list_arr.append(line[2+j])\n",
    "        entire_list[line[0]] = list_arr\n",
    "        animals.append(line[0])\n",
    "            \n",
    "#     largest = 0\n",
    "#     for i in range(numb_ani):\n",
    "#         for j in range(i+1, numb_ani):\n",
    "#             largest = max(largest, same_checker(i, j, entire_list, animals))\n",
    "for a1 in animals:\n",
    "    for a2 in animals:\n",
    "        if a1 != a2:\n",
    "            numb = same_checker(entire_list[a1], entire_list[a2], animals)\n",
    "            print(a1, numb)"
   ]
  },
  {
   "cell_type": "code",
   "execution_count": 18,
   "metadata": {},
   "outputs": [
    {
     "data": {
      "text/plain": [
       "['bird', 'cow', 'sheep', 'goat']"
      ]
     },
     "execution_count": 18,
     "metadata": {},
     "output_type": "execute_result"
    }
   ],
   "source": [
    "animals"
   ]
  },
  {
   "cell_type": "code",
   "execution_count": 38,
   "metadata": {},
   "outputs": [
    {
     "data": {
      "text/plain": [
       "('goat', 'goat')"
      ]
     },
     "execution_count": 38,
     "metadata": {},
     "output_type": "execute_result"
    }
   ],
   "source": [
    "a1, a2"
   ]
  },
  {
   "cell_type": "code",
   "execution_count": null,
   "metadata": {},
   "outputs": [],
   "source": []
  }
 ],
 "metadata": {
  "kernelspec": {
   "display_name": "Python 3",
   "language": "python",
   "name": "python3"
  },
  "language_info": {
   "codemirror_mode": {
    "name": "ipython",
    "version": 3
   },
   "file_extension": ".py",
   "mimetype": "text/x-python",
   "name": "python",
   "nbconvert_exporter": "python",
   "pygments_lexer": "ipython3",
   "version": "3.7.1"
  }
 },
 "nbformat": 4,
 "nbformat_minor": 2
}

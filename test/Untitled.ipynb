{
 "cells": [
  {
   "cell_type": "code",
   "execution_count": 49,
   "metadata": {},
   "outputs": [],
   "source": [
    "shells = [False, False, False]\n",
    "\n",
    "with open(\"shell.in\", \"r\") as fin:\n",
    "    n = int(fin.readline().strip())\n",
    "    \n",
    "answers = []\n",
    "    \n",
    "for j in range(3):\n",
    "    correct = 0\n",
    "    shells[0] = False; shells[1] = False; shells[2] = False\n",
    "    \n",
    "    shells[j] = True\n",
    "\n",
    "    fin = open(\"shell.in\", 'r')\n",
    "    n = int(fin.readline().strip())\n",
    "    for i in range(n):\n",
    "        \n",
    "        line = fin.readline().strip().split(\" \")\n",
    "        a = int(line[0]); b = int(line[1]); g = int(line[2])\n",
    "        \n",
    "        storage = shells[a-1]\n",
    "        shells[abs(a-1)] = shells[abs(b-1)]\n",
    "        shells[abs(b-1)] = storage\n",
    "        \n",
    "        if shells[abs(g-1)] == True:\n",
    "            correct+=1\n",
    "\n",
    "    fin.close()\n",
    "    answers.append(correct)\n",
    "    \n",
    "with open(\"shell.out\", \"w\") as fout:\n",
    "    fout.write(str(max(answers)))"
   ]
  },
  {
   "cell_type": "code",
   "execution_count": 48,
   "metadata": {},
   "outputs": [
    {
     "data": {
      "text/plain": [
       "[1, 2, 0]"
      ]
     },
     "execution_count": 48,
     "metadata": {},
     "output_type": "execute_result"
    }
   ],
   "source": [
    "answers"
   ]
  },
  {
   "cell_type": "markdown",
   "metadata": {},
   "source": [
    "prob 2"
   ]
  },
  {
   "cell_type": "code",
   "execution_count": 209,
   "metadata": {},
   "outputs": [
    {
     "name": "stdout",
     "output_type": "stream",
     "text": [
      "[2, 3, 4, 5, 10, 1, 7, 8, 9, 6] 1\n",
      "[3, 4, 5, 10, 1, 2, 7, 8, 9, 6] 2\n",
      "[4, 5, 10, 1, 2, 3, 7, 8, 9, 6] 3\n",
      "[5, 10, 1, 2, 3, 4, 7, 8, 9, 6] 4\n",
      "[10, 1, 2, 3, 4, 5, 7, 8, 9, 6] 5\n",
      "[1, 2, 3, 4, 5, 7, 8, 9, 6, 10] 6\n",
      "[2, 3, 4, 5, 7, 8, 9, 6, 10, 1] 7\n",
      "[3, 4, 5, 7, 8, 9, 6, 10, 1, 2] 8\n",
      "[4, 5, 7, 8, 9, 6, 10, 1, 2, 3] 9\n",
      "[5, 7, 8, 9, 6, 10, 1, 2, 3, 4] 10\n",
      "[7, 8, 9, 6, 10, 1, 2, 3, 4, 5] 11\n",
      "[8, 9, 6, 7, 10, 1, 2, 3, 4, 5] 12\n",
      "[9, 6, 7, 8, 10, 1, 2, 3, 4, 5] 13\n",
      "[6, 7, 8, 9, 10, 1, 2, 3, 4, 5] 14\n",
      "[7, 8, 9, 10, 1, 2, 3, 4, 5, 6] 15\n",
      "[8, 9, 10, 1, 2, 3, 4, 5, 6, 7] 16\n",
      "[9, 10, 1, 2, 3, 4, 5, 6, 7, 8] 17\n",
      "[10, 1, 2, 3, 4, 5, 6, 7, 8, 9] 18\n",
      "[1, 2, 3, 4, 5, 6, 7, 8, 9, 10] 19\n"
     ]
    }
   ],
   "source": [
    "numbs = []\n",
    "with open(\"sleepy.in\", \"r\") as fin:\n",
    "    n = int(fin.readline().strip())\n",
    "    line = fin.readline().strip().split(\" \")\n",
    "    for i in range(n):\n",
    "        numbs.append(int(line[i]))\n",
    "        \n",
    "for k in range(len(numbs)-1):\n",
    "    if numbs[k] > numbs[k+1]:\n",
    "        sorted = False\n",
    "        break\n",
    "    else:\n",
    "        sorted = True\n",
    "        \n",
    "wrote = False        \n",
    "if sorted == True:\n",
    "    with open(\"sleepy.out\", \"w\") as fout:\n",
    "        fout.write(\"0\")\n",
    "        wrote = True\n",
    "        \n",
    "counter = 0\n",
    "maximum = numbs[0]\n",
    "max_idx = 0\n",
    "for i in range(len(numbs)):\n",
    "     if numbs[i] > maximum:\n",
    "            maximum = numbs[i]\n",
    "            max_idx = i\n",
    "        \n",
    "min_done = False\n",
    "if numbs[0] == min(numbs):\n",
    "    insert_numb = numbs.pop(0)\n",
    "    numbs.insert(max_idx, insert_numb)\n",
    "    counter+=1\n",
    "    min_done = True\n",
    "    print(numbs, counter)\n",
    "\n",
    "\n",
    "done = False\n",
    "while sorted == False:\n",
    "    for i in range(len(numbs)):\n",
    "        if numbs[0] == 10 and done == False:\n",
    "            idx = len(numbs)\n",
    "            done = True\n",
    "            break\n",
    "                 \n",
    "        elif numbs[0] == min(numbs) and min_done == False:\n",
    "#             idx = max_idx\n",
    "#             break\n",
    "            for l in range(len(numbs)):\n",
    "                if numbs[l] == numbs[0] + 1:\n",
    "                    idx = l-1\n",
    "            break\n",
    "        \n",
    "        elif numbs[0] - numbs[i] == 1:\n",
    "            idx = i\n",
    "\n",
    "    insert_numb = numbs.pop(0)\n",
    "    numbs.insert(idx, insert_numb)\n",
    "    counter+=1\n",
    "    print(numbs, counter)\n",
    "\n",
    "    sorted = all(numbs[i] < numbs[i+1] for i in range(len(numbs)-1))\n",
    "\n",
    "if wrote == False:\n",
    "    with open(\"sleepy.out\", \"w\") as fout:\n",
    "        fout.write(str(counter))"
   ]
  },
  {
   "cell_type": "code",
   "execution_count": 169,
   "metadata": {},
   "outputs": [
    {
     "data": {
      "text/plain": [
       "2"
      ]
     },
     "execution_count": 169,
     "metadata": {},
     "output_type": "execute_result"
    }
   ],
   "source": [
    "counter"
   ]
  },
  {
   "cell_type": "code",
   "execution_count": 70,
   "metadata": {},
   "outputs": [
    {
     "name": "stdout",
     "output_type": "stream",
     "text": [
      "[2, 3]\n"
     ]
    }
   ],
   "source": [
    "test = [1, 2, 3]\n",
    "# for i in range(3):\n",
    "test.pop(0)\n",
    "print(test)\n",
    "test.insert(2, 1)"
   ]
  },
  {
   "cell_type": "code",
   "execution_count": 71,
   "metadata": {},
   "outputs": [
    {
     "data": {
      "text/plain": [
       "[2, 3, 1]"
      ]
     },
     "execution_count": 71,
     "metadata": {},
     "output_type": "execute_result"
    }
   ],
   "source": [
    "test"
   ]
  },
  {
   "cell_type": "code",
   "execution_count": 73,
   "metadata": {},
   "outputs": [
    {
     "data": {
      "text/plain": [
       "3"
      ]
     },
     "execution_count": 73,
     "metadata": {},
     "output_type": "execute_result"
    }
   ],
   "source": [
    "test[1]"
   ]
  },
  {
   "cell_type": "code",
   "execution_count": 148,
   "metadata": {},
   "outputs": [
    {
     "name": "stdout",
     "output_type": "stream",
     "text": [
      "[1, 2, 3, 2]\n"
     ]
    }
   ],
   "source": [
    "list = [1, 2, 3]\n",
    "for i in range(len(list)):\n",
    "    if list[i] == 2:\n",
    "        list.insert(len(list), 2)\n",
    "print(list)"
   ]
  },
  {
   "cell_type": "code",
   "execution_count": 187,
   "metadata": {},
   "outputs": [
    {
     "data": {
      "text/plain": [
       "False"
      ]
     },
     "execution_count": 187,
     "metadata": {},
     "output_type": "execute_result"
    }
   ],
   "source": [
    "all(list[i] <= list[i+1] for i in range(len(list)-1))"
   ]
  },
  {
   "cell_type": "raw",
   "metadata": {},
   "source": []
  },
  {
   "cell_type": "code",
   "execution_count": 223,
   "metadata": {},
   "outputs": [
    {
     "name": "stdout",
     "output_type": "stream",
     "text": [
      "['flies', 'eatsworms', 'eatsgrass', 'isawesome', 'makesmilk', 'goesmoo', 'eatsgrass', 'makesmilk', 'eatsgrass']\n",
      "['eatsgrass', 'makesmilk']\n"
     ]
    }
   ],
   "source": [
    "with open(\"guess.in\", \"r\") as fin:\n",
    "    phrases = []\n",
    "    n = int(fin.readline().strip())\n",
    "    for i in range(4):\n",
    "        line = fin.readline().strip().split(\" \")\n",
    "        numb_of_phrases = int(line[1])\n",
    "        for j in range(numb_of_phrases):\n",
    "            phrases.append(line[2+j])\n",
    "            \n",
    "    print(phrases)\n",
    "    \n",
    "common = []\n",
    "for i in range(len(phrases)):\n",
    "    for j in range(len(phrases)):\n",
    "        if phrases[i] == phrases[j] and i != j and phrases[i] not in common:\n",
    "            common.append(phrases[i])\n",
    "print(common)\n",
    "\n",
    "with open(\"guess.out\", \"w\") as fout:\n",
    "    fout.write(str(len(common)+1))"
   ]
  },
  {
   "cell_type": "code",
   "execution_count": 210,
   "metadata": {},
   "outputs": [
    {
     "name": "stdout",
     "output_type": "stream",
     "text": [
      "True\n"
     ]
    }
   ],
   "source": [
    "list = [\"hi\", \"bye\", \"hi\"]\n",
    "print(list[0] == list[2])"
   ]
  },
  {
   "cell_type": "code",
   "execution_count": null,
   "metadata": {},
   "outputs": [],
   "source": []
  }
 ],
 "metadata": {
  "kernelspec": {
   "display_name": "Python 3",
   "language": "python",
   "name": "python3"
  },
  "language_info": {
   "codemirror_mode": {
    "name": "ipython",
    "version": 3
   },
   "file_extension": ".py",
   "mimetype": "text/x-python",
   "name": "python",
   "nbconvert_exporter": "python",
   "pygments_lexer": "ipython3",
   "version": "3.7.1"
  }
 },
 "nbformat": 4,
 "nbformat_minor": 2
}

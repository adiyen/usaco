{
 "cells": [
  {
   "cell_type": "markdown",
   "metadata": {},
   "source": [
    "**Your ride is here**"
   ]
  },
  {
   "cell_type": "code",
   "execution_count": 57,
   "metadata": {},
   "outputs": [
    {
     "name": "stdout",
     "output_type": "stream",
     "text": [
      "GO\n"
     ]
    }
   ],
   "source": [
    "comet = \"COMETQ\"\n",
    "group = \"HVNGAT\"\n",
    "\n",
    "comet_product = 1\n",
    "group_product = 1\n",
    "\n",
    "for val in comet:\n",
    "    ord_val = ord(val)-64\n",
    "    comet_product*=ord_val\n",
    "    \n",
    "for val in group:\n",
    "    ord_val = ord(val)-64\n",
    "    group_product*=ord_val\n",
    "\n",
    "comet_val = int(comet_product/47)\n",
    "comet_mod = comet_product-(comet_val*47)\n",
    "\n",
    "group_val = int(group_product/47)\n",
    "group_mod = group_product-(group_val*47)\n",
    "\n",
    "if group_mod == comet_mod:\n",
    "    print(\"GO\")\n",
    "    \n",
    "else:\n",
    "    print(\"STAY\")"
   ]
  },
  {
   "cell_type": "markdown",
   "metadata": {},
   "source": [
    "**Gift1**"
   ]
  },
  {
   "cell_type": "code",
   "execution_count": 112,
   "metadata": {},
   "outputs": [
    {
     "name": "stdout",
     "output_type": "stream",
     "text": [
      "5\n",
      "dave\n",
      "owen\n",
      "amr\n",
      "laura\n",
      "vick\n"
     ]
    }
   ],
   "source": [
    "persons = dict()\n",
    "person_names = []\n",
    "\n",
    "with open(\"gift1.in\", \"r\") as fin:\n",
    "    num_people = int(fin.readline().strip())\n",
    "    print(num_people)\n",
    "    for _ in range(num_people):\n",
    "        name = fin.readline().strip()\n",
    "        persons[name] = 0\n",
    "        person_names.append(name)\n",
    "    \n",
    "    for j in range(num_people):\n",
    "        person_name = fin.readline().strip()\n",
    "        print(person_name)\n",
    "        vals = fin.readline().strip().split(\" \")\n",
    "        give_amount = int(vals[0])\n",
    "        num_receiver = int(vals[1])\n",
    "\n",
    "        if num_receiver > 0:\n",
    "            persons[person_name]-= give_amount - (give_amount % num_receiver)\n",
    "            \n",
    "            for i in range(num_receiver):\n",
    "                name = fin.readline().strip()\n",
    "                persons[name]+= int(give_amount/num_receiver)\n",
    "                \n",
    "with open(\"gift1.out\", \"w\") as fout:\n",
    "    for name in person_names:\n",
    "#         print(name, persons[name])\n",
    "        fout.write(\"{name} {val}\\n\".format(name=name, val=persons[name]))"
   ]
  },
  {
   "cell_type": "markdown",
   "metadata": {},
   "source": [
    "**Friday the 13th**"
   ]
  },
  {
   "cell_type": "code",
   "execution_count": null,
   "metadata": {},
   "outputs": [],
   "source": []
  },
  {
   "cell_type": "code",
   "execution_count": 198,
   "metadata": {},
   "outputs": [],
   "source": [
    "def years(month_days, days, counter, day_numbs):\n",
    "    day = days[counter]\n",
    "    for j in range(12):\n",
    "        day_numb = 1\n",
    "        for i in range(month_days[j]):\n",
    "            if day_numb == 13:\n",
    "                day_numbs[day]+=1\n",
    "\n",
    "            day_numb+=1\n",
    "            if counter == 6:\n",
    "                counter = 0\n",
    "            else:  \n",
    "                counter+=1\n",
    "\n",
    "            day = days[counter]\n",
    "    \n",
    "    return day, counter"
   ]
  },
  {
   "cell_type": "code",
   "execution_count": 204,
   "metadata": {},
   "outputs": [
    {
     "name": "stdout",
     "output_type": "stream",
     "text": [
      "36 33 34 33 35 35 34\n",
      "\n"
     ]
    }
   ],
   "source": [
    "with open(\"friday.in\", \"r\") as fin:\n",
    "    N = int(fin.readline().strip())\n",
    "\n",
    "day_numbs = {\n",
    "    \"Sat\": 0,\n",
    "    \"Sun\": 0,\n",
    "    \"Mon\": 0,\n",
    "    \"Tues\": 0,\n",
    "    \"Wed\": 0,\n",
    "    \"Thurs\": 0,\n",
    "    \"Fri\": 0\n",
    "}\n",
    "days = [\"Sat\", \"Sun\", \"Mon\", \"Tues\", \"Wed\", \"Thurs\", \"Fri\"]\n",
    "day = days[0]\n",
    "counter = 2\n",
    "\n",
    "month_days = [31, 28, 31, 30, 31, 30, 31, 31, 30, 31, 30, 31]\n",
    "number = 0\n",
    "\n",
    "for i in range(N):\n",
    "    if (1900+i) % 400 == 0:\n",
    "        month_days[1] = 29\n",
    "    \n",
    "    elif (1900+i) % 4 == 0 and (1900+i) % 100 != 0:\n",
    "        month_days[1] = 29\n",
    "        \n",
    "    else:\n",
    "        month_days[1] = 28\n",
    "        \n",
    "    vals = years(month_days, days, counter, day_numbs)\n",
    "\n",
    "    counter = int(vals[1])\n",
    "\n",
    "res = \"\"\n",
    "for day in days:\n",
    "    res = res + f\"{day_numbs[day]} \"\n",
    "res = res[:-1] + \"\\n\"\n",
    "print(res)\n",
    "with open(\"friday.out\", \"w\") as fout:\n",
    "    fout.write(res)"
   ]
  },
  {
   "cell_type": "code",
   "execution_count": null,
   "metadata": {},
   "outputs": [],
   "source": []
  },
  {
   "cell_type": "markdown",
   "metadata": {},
   "source": [
    "**Necklace**"
   ]
  },
  {
   "cell_type": "code",
   "execution_count": 16,
   "metadata": {},
   "outputs": [
    {
     "name": "stdout",
     "output_type": "stream",
     "text": [
      "8\n"
     ]
    }
   ],
   "source": [
    "necklace = \"brbrrrbbbrrrrrbrrbbrbbbbrrrrb\"\n",
    "\n",
    "max_count = 0\n",
    "counter = 0\n",
    "\n",
    "holder = necklace[0]\n",
    "\n",
    "for i in range(len(necklace)-1):\n",
    "    idx = i-1\n",
    "    counter = 0\n",
    "    while(necklace[idx] == necklace[i]):\n",
    "        counter+=1\n",
    "        idx-=1\n",
    "        \n",
    "    idx = i+1\n",
    "    while(necklace[idx] == necklace[i]):\n",
    "        counter+=1\n",
    "        idx-=1\n",
    "    \n",
    "    if max_count < counter:\n",
    "        max_count = counter\n",
    "\n",
    "print(max_count)\n",
    "    \n",
    "    "
   ]
  },
  {
   "cell_type": "code",
   "execution_count": null,
   "metadata": {},
   "outputs": [],
   "source": []
  }
 ],
 "metadata": {
  "kernelspec": {
   "display_name": "Python 3",
   "language": "python",
   "name": "python3"
  },
  "language_info": {
   "codemirror_mode": {
    "name": "ipython",
    "version": 3
   },
   "file_extension": ".py",
   "mimetype": "text/x-python",
   "name": "python",
   "nbconvert_exporter": "python",
   "pygments_lexer": "ipython3",
   "version": "3.7.1"
  }
 },
 "nbformat": 4,
 "nbformat_minor": 2
}

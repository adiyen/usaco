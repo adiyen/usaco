{
 "cells": [
  {
   "cell_type": "markdown",
   "metadata": {},
   "source": [
    "Problem #1"
   ]
  },
  {
   "cell_type": "code",
   "execution_count": 1,
   "metadata": {},
   "outputs": [],
   "source": [
    "ids = []\n",
    "entries = {}\n",
    "counter = 0\n",
    "with open(\"crossroad.in\") as fin:\n",
    "    numb_of_entries = int(fin.readline().strip())\n",
    "    \n",
    "    for i in range(numb_of_entries):\n",
    "        line = fin.readline().strip().split(\" \")\n",
    "        if int(line[0]) not in ids:\n",
    "            ids.append(int(line[0]))\n",
    "            entries[int(line[0])] = int(line[1])\n",
    "        elif int(line[0]) in ids and int(line[1]) != entries[int(line[0])]:\n",
    "            entries[int(line[0])] = int(line[1])\n",
    "#             print(\"True\", int(line[0]), int(line[1]))\n",
    "            counter+=1\n",
    "#         print(entries)\n",
    "#         print(\"counter:\", counter)\n",
    "# print(counter)\n",
    "\n",
    "with open(\"crossroad.out\", \"w\") as fout:\n",
    "    fout.write(str(counter))"
   ]
  },
  {
   "cell_type": "code",
   "execution_count": 2,
   "metadata": {},
   "outputs": [
    {
     "data": {
      "text/plain": [
       "3"
      ]
     },
     "execution_count": 2,
     "metadata": {},
     "output_type": "execute_result"
    }
   ],
   "source": [
    "counter"
   ]
  },
  {
   "cell_type": "code",
   "execution_count": 3,
   "metadata": {},
   "outputs": [],
   "source": [
    "val = {}\n",
    "val[1] = 3"
   ]
  },
  {
   "cell_type": "code",
   "execution_count": 4,
   "metadata": {},
   "outputs": [
    {
     "data": {
      "text/plain": [
       "{1: 3}"
      ]
     },
     "execution_count": 4,
     "metadata": {},
     "output_type": "execute_result"
    }
   ],
   "source": [
    "val"
   ]
  },
  {
   "cell_type": "code",
   "execution_count": null,
   "metadata": {},
   "outputs": [],
   "source": []
  },
  {
   "cell_type": "markdown",
   "metadata": {},
   "source": [
    "Problem #2"
   ]
  },
  {
   "cell_type": "code",
   "execution_count": 1,
   "metadata": {},
   "outputs": [],
   "source": [
    "with open(\"circlecross.in\", \"r\") as fin:\n",
    "    string = fin.readline().strip()\n",
    "crossed = []\n",
    "# counter = 0\n",
    "# for i in range(1, 51):\n",
    "#     if string[i]!= string[i-1] and string[i] != string[i+1]:\n",
    "#         if string[i] not in crossed:\n",
    "#             crossed.append(string[i])\n",
    "# # answer = int(len(crossed)/2)\n",
    "\n",
    "# for j in range(len(crossed)):\n",
    "#     if j % 2 == 0:\n",
    "#         if ord(crossed[j]) > ord(crossed[j+1]):\n",
    "#             counter+=1\n",
    "#     else:\n",
    "#         if ord(crossed[j]) < ord(crossed[j-1]):\n",
    "#             counter+=1\n",
    "\n",
    "\n",
    "\n",
    "# for i in range(51):\n",
    "#     a = string[i]; b = string[i+1]\n",
    "#     for j in range(52):\n",
    "#         if string[j] == a and j != i and j > i+1:\n",
    "#             print(string[j])\n",
    "#             crossed.append(string[j])\n",
    "\n",
    "# answer = int(counter/2)\n",
    "\n",
    "# with open(\"circlecross.out\", \"w\") as fout:\n",
    "#     fout.write(str(answer))\n",
    "# numbs = []\n",
    "# for i in range(51):\n",
    "#     letter = string[i]\n",
    "#     if string[i+1] == letter and i % 2 == 0:\n",
    "#         numbs.append(1)\n",
    "#     elif i % 2 == 1:\n",
    "#         pass\n",
    "#     else:\n",
    "#         numbs.append(0)\n",
    "\n",
    "# sum = 0\n",
    "# for j in range(len(numbs)):\n",
    "#     sum += numbs[j]\n",
    "    \n",
    "# answer = int((26-sum)/2)\n",
    "\n",
    "# for i in range(51):\n",
    "#     a = string[i]; b = string[i+1]\n",
    "list = {}\n",
    "for i in range(26):\n",
    "    list[i+65] = 0\n",
    "    \n",
    "for i in range(1, 52):\n",
    "    for j in range(i, 51):\n",
    "        if string[j] != string[j+1] and j % 2 == 0:\n",
    "            list[ord(string[i])]+=1\n",
    "        if string[j] == string[i]:\n",
    "            break\n",
    "            \n",
    "maximum = list[65]\n",
    "for k in range(1, 26):\n",
    "    if list[k+65] > maximum:\n",
    "        maximum = list[k+65]\n",
    "    \n",
    "    \n",
    "\n",
    "with open(\"circlecross.out\", \"w\") as fout:\n",
    "    fout.write(str(maximum))"
   ]
  },
  {
   "cell_type": "code",
   "execution_count": 2,
   "metadata": {},
   "outputs": [
    {
     "data": {
      "text/plain": [
       "({65: 1,\n",
       "  66: 0,\n",
       "  67: 0,\n",
       "  68: 0,\n",
       "  69: 0,\n",
       "  70: 0,\n",
       "  71: 0,\n",
       "  72: 0,\n",
       "  73: 0,\n",
       "  74: 0,\n",
       "  75: 0,\n",
       "  76: 0,\n",
       "  77: 0,\n",
       "  78: 0,\n",
       "  79: 0,\n",
       "  80: 0,\n",
       "  81: 0,\n",
       "  82: 0,\n",
       "  83: 0,\n",
       "  84: 0,\n",
       "  85: 0,\n",
       "  86: 0,\n",
       "  87: 0,\n",
       "  88: 0,\n",
       "  89: 0,\n",
       "  90: 0},\n",
       " 1)"
      ]
     },
     "execution_count": 2,
     "metadata": {},
     "output_type": "execute_result"
    }
   ],
   "source": [
    "list, maximum"
   ]
  },
  {
   "cell_type": "code",
   "execution_count": 3,
   "metadata": {},
   "outputs": [
    {
     "ename": "NameError",
     "evalue": "name 'answer' is not defined",
     "output_type": "error",
     "traceback": [
      "\u001b[1;31m---------------------------------------------------------------------------\u001b[0m",
      "\u001b[1;31mNameError\u001b[0m                                 Traceback (most recent call last)",
      "\u001b[1;32m<ipython-input-3-2ca34a97d199>\u001b[0m in \u001b[0;36m<module>\u001b[1;34m\u001b[0m\n\u001b[1;32m----> 1\u001b[1;33m \u001b[0mcrossed\u001b[0m\u001b[1;33m,\u001b[0m \u001b[0manswer\u001b[0m\u001b[1;33m\u001b[0m\u001b[0m\n\u001b[0m",
      "\u001b[1;31mNameError\u001b[0m: name 'answer' is not defined"
     ]
    }
   ],
   "source": [
    "crossed, answer"
   ]
  },
  {
   "cell_type": "code",
   "execution_count": 98,
   "metadata": {},
   "outputs": [
    {
     "data": {
      "text/plain": [
       "False"
      ]
     },
     "execution_count": 98,
     "metadata": {},
     "output_type": "execute_result"
    }
   ],
   "source": [
    "1 % 2 == 0"
   ]
  },
  {
   "cell_type": "code",
   "execution_count": 102,
   "metadata": {},
   "outputs": [
    {
     "data": {
      "text/plain": [
       "[0, 1, 0, 1, 1, 1, 1, 1, 1, 1, 1, 1, 1, 1, 1, 1, 1, 1, 1, 1, 1, 1, 1, 1, 1, 1]"
      ]
     },
     "execution_count": 102,
     "metadata": {},
     "output_type": "execute_result"
    }
   ],
   "source": [
    "numbs"
   ]
  },
  {
   "cell_type": "code",
   "execution_count": 118,
   "metadata": {},
   "outputs": [
    {
     "data": {
      "text/plain": [
       "90"
      ]
     },
     "execution_count": 118,
     "metadata": {},
     "output_type": "execute_result"
    }
   ],
   "source": [
    "ord(\"Z\")"
   ]
  },
  {
   "cell_type": "code",
   "execution_count": null,
   "metadata": {},
   "outputs": [],
   "source": []
  },
  {
   "cell_type": "code",
   "execution_count": null,
   "metadata": {},
   "outputs": [],
   "source": []
  },
  {
   "cell_type": "markdown",
   "metadata": {},
   "source": [
    "#Problem #3"
   ]
  },
  {
   "cell_type": "code",
   "execution_count": 84,
   "metadata": {},
   "outputs": [],
   "source": [
    "cow_coming_time, amount_of_time = [], []\n",
    "\n",
    "with open(\"cowqueue.in\", \"r\") as fin:\n",
    "    numb_of_cows = int(fin.readline().strip())\n",
    "    \n",
    "    for i in range(numb_of_cows):\n",
    "        line = fin.readline().strip().split(\" \")\n",
    "        cow_coming_time.append(int(line[0]))\n",
    "        amount_of_time.append(int(line[1]))\n",
    "        \n",
    "for i in range(numb_of_cows):\n",
    "    for j in range(numb_of_cows):\n",
    "        if cow_coming_time[i] < cow_coming_time[j]:\n",
    "            storage_1 = cow_coming_time[i]\n",
    "            storage_2 = amount_of_time[i]\n",
    "            cow_coming_time[i] = cow_coming_time[j]\n",
    "            amount_of_time[i] = amount_of_time[j]\n",
    "            cow_coming_time[j] = storage_1\n",
    "            amount_of_time[j] = storage_2\n",
    "\n",
    "# maximum = cow_coming_time[0] + amount_of_time[0]     \n",
    "max2_needed = True\n",
    "maximum = 0\n",
    "start_time = cow_coming_time[0]\n",
    "for i in range(numb_of_cows-1):\n",
    "\n",
    "    maximum = start_time+amount_of_time[i]\n",
    "\n",
    "    if maximum >= cow_coming_time[i+1]:\n",
    "        start_time = maximum\n",
    "    else:\n",
    "        start_time = cow_coming_time[i+1]\n",
    "    #print(i, maximum)\n",
    "# if maximum >= cow_coming_time[-1]:\n",
    "#     maximum+=amount_of_time[-1]\n",
    "maximum = start_time+amount_of_time[-1]\n",
    "\n",
    "    \n",
    "with open(\"cowqueue.out\", \"w\") as fout:\n",
    "    fout.write(str(maximum))"
   ]
  },
  {
   "cell_type": "code",
   "execution_count": 85,
   "metadata": {},
   "outputs": [
    {
     "data": {
      "text/plain": [
       "15"
      ]
     },
     "execution_count": 85,
     "metadata": {},
     "output_type": "execute_result"
    }
   ],
   "source": [
    "maximum"
   ]
  },
  {
   "cell_type": "code",
   "execution_count": 44,
   "metadata": {},
   "outputs": [
    {
     "data": {
      "text/plain": [
       "([2, 5, 8, 10, 11], [1, 7, 3, 8, 2])"
      ]
     },
     "execution_count": 44,
     "metadata": {},
     "output_type": "execute_result"
    }
   ],
   "source": [
    "cow_coming_time, amount_of_time"
   ]
  },
  {
   "cell_type": "code",
   "execution_count": null,
   "metadata": {},
   "outputs": [],
   "source": []
  }
 ],
 "metadata": {
  "kernelspec": {
   "display_name": "Python 3",
   "language": "python",
   "name": "python3"
  },
  "language_info": {
   "codemirror_mode": {
    "name": "ipython",
    "version": 3
   },
   "file_extension": ".py",
   "mimetype": "text/x-python",
   "name": "python",
   "nbconvert_exporter": "python",
   "pygments_lexer": "ipython3",
   "version": "3.6.5"
  }
 },
 "nbformat": 4,
 "nbformat_minor": 2
}

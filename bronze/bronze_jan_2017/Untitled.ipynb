{
 "cells": [
  {
   "cell_type": "code",
   "execution_count": 193,
   "metadata": {},
   "outputs": [
    {
     "name": "stdout",
     "output_type": "stream",
     "text": [
      "{'Bessie': 7, 'Elsie': 7, 'Daisy': 7, 'Gertie': 12, 'Annabelle': 10, 'Maggie': 13, 'Henrietta': 9}\n",
      "7 Bessie 999999 \n",
      "7 Bessie 999999 \n",
      "7 Bessie 999999 \n",
      "7 Bessie 12 Gertie\n",
      "7 Bessie 10 Annabelle\n",
      "7 Bessie 10 Annabelle\n",
      "7 Bessie 9 Henrietta\n",
      "{'Bessie': 7, 'Elsie': 7, 'Daisy': 7, 'Gertie': 12, 'Annabelle': 10, 'Maggie': 13, 'Henrietta': 9}\n"
     ]
    }
   ],
   "source": [
    "cows_names = []\n",
    "cow_milk_numbs = []\n",
    "\n",
    "cows = {\n",
    "    \"Bessie\": 0,\n",
    "    \"Elsie\": 0,\n",
    "    \"Daisy\": 0,\n",
    "    \"Gertie\": 0,\n",
    "    \"Annabelle\": 0,\n",
    "    \"Maggie\": 0,\n",
    "    \"Henrietta\": 0\n",
    "}\n",
    "\n",
    "cows_arr = [\"Bessie\", \"Elsie\", \"Daisy\", \"Gertie\", \"Annabelle\", \"Maggie\", \"Henrietta\"]\n",
    "\n",
    "with open(\"notlast.in\", \"r\") as fin:\n",
    "    line = fin.readline().strip()\n",
    "    numb_of_entries = int(line)\n",
    "    \n",
    "    for i in range(numb_of_entries):\n",
    "        line = fin.readline().strip().split(\" \")\n",
    "        cows_names.append(line[0]); cow_milk_numbs.append(int(line[1]))\n",
    "    \n",
    "for i in range(numb_of_entries):\n",
    "    cows[cows_names[i]]+=cow_milk_numbs[i]\n",
    "print(cows)\n",
    "    \n",
    "tie = False\n",
    "fmin, smin = 999999, 999999\n",
    "fans, sans = \"\", \"\"\n",
    "for name, val in cows.items():\n",
    "    if val < fmin:\n",
    "        smin, sans = fmin, fans\n",
    "        fmin, fans = val, name\n",
    "#     elif val < smin and val == fmin:\n",
    "#         tie = True\n",
    "    elif val < smin and val != fmin:\n",
    "        smin, sans = val, name\n",
    "    print(fmin, fans, smin, sans)\n",
    "\n",
    "# for i in range(len(cows_names)):\n",
    "#     if cows[cows_names[i]] == smin and sans != cows_names[i]:\n",
    "# #         print(smin, cows[cows_names[i]])\n",
    "#         tie = True\n",
    "\n",
    "new_cows = dict((y,x) for x,y in cows.items())\n",
    "print(cows)\n",
    "\n",
    "for i in range(len(cows)):\n",
    "#     print(cows[cows_arr[i]] == sans)\n",
    "    if cows[cows_arr[i]] == smin and new_cows[smin] != cows_arr[i]:\n",
    "        print(\"true\")\n",
    "        tie = True\n",
    "\n",
    "# used_numbs = []\n",
    "# for i in range(len(cows)):\n",
    "#     used_numbs.append(cows[cows_names[i]])\n",
    "\n",
    "# print(used_numbs)\n",
    "\n",
    "\n",
    "# for i in range(len(used_numbs)):\n",
    "#     if \n",
    "\n",
    "# if numb_of_entries == 0:\n",
    "#     tie = True\n",
    "with open(\"notlast.out\", \"w\") as fout:\n",
    "    if not tie:\n",
    "        fout.write(sans)\n",
    "    else:\n",
    "        fout.write(\"Tie\")\n",
    "    fout.write('\\n')"
   ]
  },
  {
   "cell_type": "code",
   "execution_count": 187,
   "metadata": {},
   "outputs": [
    {
     "data": {
      "text/plain": [
       "{9: 'Elsie', 0: 'Henrietta', 11: 'Maggie'}"
      ]
     },
     "execution_count": 187,
     "metadata": {},
     "output_type": "execute_result"
    }
   ],
   "source": [
    "new_cows"
   ]
  },
  {
   "cell_type": "code",
   "execution_count": 188,
   "metadata": {},
   "outputs": [
    {
     "data": {
      "text/plain": [
       "['Bessie', 'Elsie', 'Daisy', 'Gertie', 'Annabelle', 'Maggie', 'Henrietta']"
      ]
     },
     "execution_count": 188,
     "metadata": {},
     "output_type": "execute_result"
    }
   ],
   "source": [
    "cows_arr"
   ]
  },
  {
   "cell_type": "code",
   "execution_count": 64,
   "metadata": {},
   "outputs": [],
   "source": [
    "s = set()\n",
    "\n",
    "s.add(7)\n",
    "s.add(7)\n",
    "s.add(8)"
   ]
  },
  {
   "cell_type": "code",
   "execution_count": 65,
   "metadata": {},
   "outputs": [
    {
     "data": {
      "text/plain": [
       "True"
      ]
     },
     "execution_count": 65,
     "metadata": {},
     "output_type": "execute_result"
    }
   ],
   "source": [
    "7 in s"
   ]
  },
  {
   "cell_type": "code",
   "execution_count": 191,
   "metadata": {},
   "outputs": [
    {
     "data": {
      "text/plain": [
       "9"
      ]
     },
     "execution_count": 191,
     "metadata": {},
     "output_type": "execute_result"
    }
   ],
   "source": [
    "smin"
   ]
  },
  {
   "cell_type": "code",
   "execution_count": 67,
   "metadata": {},
   "outputs": [],
   "source": [
    "s.remove(7)"
   ]
  },
  {
   "cell_type": "code",
   "execution_count": 68,
   "metadata": {},
   "outputs": [
    {
     "data": {
      "text/plain": [
       "{8}"
      ]
     },
     "execution_count": 68,
     "metadata": {},
     "output_type": "execute_result"
    }
   ],
   "source": [
    "s"
   ]
  },
  {
   "cell_type": "code",
   "execution_count": 165,
   "metadata": {},
   "outputs": [],
   "source": [
    "vals = {\n",
    "    \"bob\": 3,\n",
    "    \"sam\": 5,\n",
    "    \"hi\": 47\n",
    "}\n",
    "\n",
    "vals = dict((y,x) for x,y in vals.items())"
   ]
  },
  {
   "cell_type": "code",
   "execution_count": 166,
   "metadata": {},
   "outputs": [
    {
     "data": {
      "text/plain": [
       "{3: 'bob', 5: 'sam', 47: 'hi'}"
      ]
     },
     "execution_count": 166,
     "metadata": {},
     "output_type": "execute_result"
    }
   ],
   "source": [
    "vals"
   ]
  },
  {
   "cell_type": "code",
   "execution_count": 59,
   "metadata": {},
   "outputs": [
    {
     "ename": "AttributeError",
     "evalue": "'dict' object has no attribute 'get_key'",
     "output_type": "error",
     "traceback": [
      "\u001b[1;31m---------------------------------------------------------------------------\u001b[0m",
      "\u001b[1;31mAttributeError\u001b[0m                            Traceback (most recent call last)",
      "\u001b[1;32m<ipython-input-59-cb2945c0bc39>\u001b[0m in \u001b[0;36m<module>\u001b[1;34m\u001b[0m\n\u001b[1;32m----> 1\u001b[1;33m \u001b[0mnames\u001b[0m\u001b[1;33m.\u001b[0m\u001b[0mget_key\u001b[0m\u001b[1;33m(\u001b[0m\u001b[1;34m\"bob\"\u001b[0m\u001b[1;33m)\u001b[0m\u001b[1;33m\u001b[0m\u001b[0m\n\u001b[0m\u001b[0;32m      2\u001b[0m \u001b[0mprint\u001b[0m\u001b[1;33m(\u001b[0m\u001b[0mnames\u001b[0m\u001b[1;33m)\u001b[0m\u001b[1;33m\u001b[0m\u001b[0m\n",
      "\u001b[1;31mAttributeError\u001b[0m: 'dict' object has no attribute 'get_key'"
     ]
    }
   ],
   "source": [
    "names.get_key(\"bob\")\n",
    "print(names)"
   ]
  },
  {
   "cell_type": "code",
   "execution_count": 52,
   "metadata": {},
   "outputs": [
    {
     "name": "stdout",
     "output_type": "stream",
     "text": [
      "{'Bessie': 7, 'Elsie': 7, 'Daisy': 7, 'Gertie': 12, 'Annabelle': 10, 'Maggie': 13, 'Henrietta': 9}\n",
      "[7, 13, 9, 12, 10]\n"
     ]
    }
   ],
   "source": [
    " "
   ]
  },
  {
   "cell_type": "code",
   "execution_count": 139,
   "metadata": {},
   "outputs": [],
   "source": [
    "cows_names = []\n",
    "cow_milk_numbs = []\n",
    "\n",
    "cows = {\n",
    "    \"Bessie\": 0,\n",
    "    \"Elsie\": 0,\n",
    "    \"Daisy\": 0,\n",
    "    \"Gertie\": 0,\n",
    "    \"Annabelle\": 0,\n",
    "    \"Maggie\": 0,\n",
    "    \"Henrietta\": 0\n",
    "}\n",
    "\n",
    "with open(\"notlast.in\", \"r\") as fin:\n",
    "    line = fin.readline().strip()\n",
    "    numb_of_entries = int(line)\n",
    "    \n",
    "    for i in range(numb_of_entries):\n",
    "        line = fin.readline().strip().split(\" \")\n",
    "        cows_names.append(line[0]); cow_milk_numbs.append(int(line[1]))\n",
    "    \n",
    "for i in range(numb_of_entries):\n",
    "    cows[cows_names[i]]+=cow_milk_numbs[i]\n",
    "\n",
    "name_cow = {\n",
    "    \"Bessie\": False,\n",
    "    \"Elsie\": False,\n",
    "    \"Daisy\": False,\n",
    "    \"Gertie\": False,\n",
    "    \"Annabelle\": False,\n",
    "    \"Maggie\": False,\n",
    "    \"Henrietta\": False\n",
    "}\n",
    "real_names = []\n",
    "\n",
    "for i in range(len(cows_names)):\n",
    "    if name_cow[cows_names[i]] == False:\n",
    "        real_names.append(cows_names[i])\n",
    "        name_cow[cows_names[i]] = True\n",
    "\n",
    "    \n",
    "tie = False\n",
    "fmin, smin = 999999, 999999\n",
    "fans, sans = \"\", \"\"\n",
    "for name in real_names:\n",
    "    val = cows[name]\n",
    "    if val < fmin:\n",
    "        smin, sans = fmin, fans\n",
    "        fmin, fans = val, name\n",
    "#     elif val < smin and val == fmin:\n",
    "#         tie = True\n",
    "    elif val < smin and val != fmin:\n",
    "        smin, sans = val, name\n",
    "    #print(fmin, fans, smin, sans)\n",
    "\n",
    "for i in range(len(cows_names)):\n",
    "    if cows[cows_names[i]] == smin and sans != cows_names[i]:\n",
    "#         print(smin, cows[cows_names[i]])\n",
    "        tie = True\n",
    "    \n",
    "if numb_of_entries == 0:\n",
    "    tie = True\n",
    "with open(\"notlast.out\", \"w\") as fout:\n",
    "    if not tie:\n",
    "        fout.write(sans)\n",
    "    else:\n",
    "        fout.write(\"Tie\")\n",
    "    fout.write('\\n')"
   ]
  },
  {
   "cell_type": "code",
   "execution_count": 138,
   "metadata": {},
   "outputs": [
    {
     "data": {
      "text/plain": [
       "['Bessie', 'Maggie']"
      ]
     },
     "execution_count": 138,
     "metadata": {},
     "output_type": "execute_result"
    }
   ],
   "source": [
    "real_names"
   ]
  },
  {
   "cell_type": "code",
   "execution_count": 124,
   "metadata": {},
   "outputs": [
    {
     "data": {
      "text/plain": [
       "{'Bessie': 7,\n",
       " 'Elsie': 7,\n",
       " 'Daisy': 7,\n",
       " 'Gertie': 12,\n",
       " 'Annabelle': 10,\n",
       " 'Maggie': 13,\n",
       " 'Henrietta': 9}"
      ]
     },
     "execution_count": 124,
     "metadata": {},
     "output_type": "execute_result"
    }
   ],
   "source": [
    "cows"
   ]
  },
  {
   "cell_type": "code",
   "execution_count": 194,
   "metadata": {},
   "outputs": [
    {
     "name": "stdout",
     "output_type": "stream",
     "text": [
      "7 Bessie 999999 \n",
      "7 Bessie 999999 \n",
      "7 Bessie 999999 \n",
      "7 Bessie 12 Gertie\n",
      "7 Bessie 10 Annabelle\n",
      "7 Bessie 10 Annabelle\n",
      "7 Bessie 9 Henrietta\n"
     ]
    }
   ],
   "source": [
    "cows_names = []\n",
    "cow_milk_numbs = []\n",
    "\n",
    "cows = {\n",
    "    \"Bessie\": 0,\n",
    "    \"Elsie\": 0,\n",
    "    \"Daisy\": 0,\n",
    "    \"Gertie\": 0,\n",
    "    \"Annabelle\": 0,\n",
    "    \"Maggie\": 0,\n",
    "    \"Henrietta\": 0\n",
    "}\n",
    "\n",
    "with open(\"notlast.in\", \"r\") as fin:\n",
    "    line = fin.readline().strip()\n",
    "    numb_of_entries = int(line)\n",
    "    \n",
    "    for i in range(numb_of_entries):\n",
    "        line = fin.readline().strip().split(\" \")\n",
    "        cows_names.append(line[0]); cow_milk_numbs.append(int(line[1]))\n",
    "    \n",
    "for i in range(numb_of_entries):\n",
    "    cows[cows_names[i]]+=cow_milk_numbs[i]\n",
    "\n",
    "    \n",
    "tie = False\n",
    "fmin, smin = 999999, 999999\n",
    "fans, sans = \"\", \"\"\n",
    "for name, val in cows.items():\n",
    "    if val < fmin:\n",
    "        smin, sans = fmin, fans\n",
    "        fmin, fans = val, name\n",
    "#     elif val < smin and val == fmin:\n",
    "#         tie = True\n",
    "    elif val < smin and val != fmin:\n",
    "        smin, sans = val, name\n",
    "    print(fmin, fans, smin, sans)\n",
    "\n",
    "for i in range(len(cows_names)):\n",
    "    if cows[cows_names[i]] == smin and sans != cows_names[i]:\n",
    "#         print(smin, cows[cows_names[i]])\n",
    "        tie = True\n",
    "    \n",
    "if numb_of_entries == 0:\n",
    "    tie = True\n",
    "with open(\"notlast.out\", \"w\") as fout:\n",
    "    if not tie:\n",
    "        fout.write(sans)\n",
    "    else:\n",
    "        fout.write(\"Tie\")\n",
    "    fout.write('\\n')"
   ]
  },
  {
   "cell_type": "code",
   "execution_count": null,
   "metadata": {},
   "outputs": [],
   "source": []
  }
 ],
 "metadata": {
  "kernelspec": {
   "display_name": "Python 3",
   "language": "python",
   "name": "python3"
  },
  "language_info": {
   "codemirror_mode": {
    "name": "ipython",
    "version": 3
   },
   "file_extension": ".py",
   "mimetype": "text/x-python",
   "name": "python",
   "nbconvert_exporter": "python",
   "pygments_lexer": "ipython3",
   "version": "3.6.5"
  }
 },
 "nbformat": 4,
 "nbformat_minor": 2
}

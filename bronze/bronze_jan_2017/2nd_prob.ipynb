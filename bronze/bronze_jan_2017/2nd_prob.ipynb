{
 "cells": [
  {
   "cell_type": "code",
   "execution_count": 90,
   "metadata": {},
   "outputs": [
    {
     "name": "stdout",
     "output_type": "stream",
     "text": [
      "3\n",
      "[1, 2, 1, 1, 1, 2]\n"
     ]
    }
   ],
   "source": [
    "def runner(N, arr, hoof, paper, scissors):\n",
    "#     print(hoof, paper, scissors)\n",
    "    counter = 0\n",
    "    idx = 0\n",
    "    for i in range(N):\n",
    "#         print(\"actions[idx]:\", actions[idx])\n",
    "#         print(\"actions[idx+1]\", actions[idx+1])\n",
    "        if arr[idx] == hoof and arr[idx+1] == scissors:\n",
    "            counter=+1\n",
    "        elif arr[idx] == paper and arr[idx+1] == hoof:\n",
    "            counter+=1\n",
    "        elif arr[idx] == scissors and arr[idx+1] == paper:\n",
    "            counter+=1\n",
    "        idx+=2\n",
    "    return counter\n",
    "\n",
    "vals = []\n",
    "actions = []\n",
    "# options = [\"hoof\", \"\"]        \n",
    "with open(\"hps.in\", \"r\") as fin:\n",
    "    line = fin.readline().strip()\n",
    "    N = int(line)\n",
    "    print(N)\n",
    "    \n",
    "    for i in range(N):\n",
    "        line = fin.readline().strip().split(\" \")\n",
    "        actions.append(int(line[0])); actions.append(int(line[1]))\n",
    "\n",
    "vals.append(runner(N, actions, 1, 2, 3))\n",
    "vals.append(runner(N, actions, 1, 3, 2))\n",
    "vals.append(runner(N, actions, 2, 1, 3))\n",
    "vals.append(runner(N, actions, 2, 3, 1))\n",
    "vals.append(runner(N, actions, 3, 1, 2))\n",
    "vals.append(runner(N, actions, 3, 2, 1))\n",
    "\n",
    "print(vals)\n",
    "\n",
    "with open(\"hps.out\", \"w\") as fout:\n",
    "    fout.write(str(max(vals)))"
   ]
  },
  {
   "cell_type": "code",
   "execution_count": 86,
   "metadata": {},
   "outputs": [
    {
     "data": {
      "text/plain": [
       "[1, 2, 1, 2, 1, 2]"
      ]
     },
     "execution_count": 86,
     "metadata": {},
     "output_type": "execute_result"
    }
   ],
   "source": [
    "actions"
   ]
  },
  {
   "cell_type": "code",
   "execution_count": 84,
   "metadata": {},
   "outputs": [
    {
     "ename": "SyntaxError",
     "evalue": "invalid syntax (<ipython-input-84-6fcd44bf82f9>, line 1)",
     "output_type": "error",
     "traceback": [
      "\u001b[1;36m  File \u001b[1;32m\"<ipython-input-84-6fcd44bf82f9>\"\u001b[1;36m, line \u001b[1;32m1\u001b[0m\n\u001b[1;33m    1 2\u001b[0m\n\u001b[1;37m      ^\u001b[0m\n\u001b[1;31mSyntaxError\u001b[0m\u001b[1;31m:\u001b[0m invalid syntax\n"
     ]
    }
   ],
   "source": [
    "1 2\n",
    "2 2\n",
    "1 3\n",
    "1 1\n",
    "3 2"
   ]
  },
  {
   "cell_type": "code",
   "execution_count": 33,
   "metadata": {},
   "outputs": [
    {
     "data": {
      "text/plain": [
       "[2, 3, 1]"
      ]
     },
     "execution_count": 33,
     "metadata": {},
     "output_type": "execute_result"
    }
   ],
   "source": [
    "numbs = [1, 2, 3]\n",
    "numb = numbs.pop(0)\n",
    "numbs\n",
    "numbs.append(numb)\n",
    "numbs"
   ]
  },
  {
   "cell_type": "code",
   "execution_count": null,
   "metadata": {},
   "outputs": [],
   "source": []
  }
 ],
 "metadata": {
  "kernelspec": {
   "display_name": "Python 3",
   "language": "python",
   "name": "python3"
  },
  "language_info": {
   "codemirror_mode": {
    "name": "ipython",
    "version": 3
   },
   "file_extension": ".py",
   "mimetype": "text/x-python",
   "name": "python",
   "nbconvert_exporter": "python",
   "pygments_lexer": "ipython3",
   "version": "3.6.5"
  }
 },
 "nbformat": 4,
 "nbformat_minor": 2
}

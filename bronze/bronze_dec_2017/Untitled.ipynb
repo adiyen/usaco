{
 "cells": [
  {
   "cell_type": "code",
   "execution_count": 1,
   "metadata": {},
   "outputs": [
    {
     "name": "stdout",
     "output_type": "stream",
     "text": [
      "[1, 0, 3, 2] [6, 0, 10, 4] [2, 1, 8, 3]\n",
      "4 16\n"
     ]
    }
   ],
   "source": [
    "with open(\"billboard.in\", \"r\") as fin:\n",
    "    first_board, second_board, third_board = [], [], []\n",
    "    line1 = fin.readline().strip().split(\" \")\n",
    "    line2 = fin.readline().strip().split(\" \")\n",
    "    line3 = fin.readline().strip().split(\" \")\n",
    "\n",
    "\n",
    "for i in range(4):\n",
    "    first_board.append(int(line1[i]))\n",
    "    second_board.append(int(line2[i]))\n",
    "    third_board.append(int(line3[i]))\n",
    "    \n",
    "    \n",
    "\n",
    "print(first_board, second_board, third_board)\n",
    "    \n",
    "    \n",
    "first_board_area = (first_board[2]-first_board[0])*(first_board[3]-first_board[1])\n",
    "second_board_area = (second_board[2]-second_board[0])*(second_board[3]-second_board[1])\n",
    "\n",
    "print(first_board_area, second_board_area)\n",
    "\n",
    "if third_board[3] > first_board[1] and third_board[3] < first_board[3]:\n",
    "#     length_covered = abs(first_board[2]-third_board[2])\n",
    "#     width_covered = abs(first_board[1]-third_board[3])\n",
    "    print(\"first_covered\")\n",
    "\n",
    "\n",
    "\n",
    "# print(length_covered, width_covered)"
   ]
  },
  {
   "cell_type": "code",
   "execution_count": null,
   "metadata": {},
   "outputs": [],
   "source": []
  },
  {
   "cell_type": "markdown",
   "metadata": {},
   "source": [
    "Bovine Shuffle"
   ]
  },
  {
   "cell_type": "code",
   "execution_count": 48,
   "metadata": {},
   "outputs": [],
   "source": [
    "def shuffle():\n",
    "    for i in range(1, numb_of_cows):\n",
    "            for j in range(numb_of_cows):\n",
    "                if i == arr[j]:\n",
    "                    print(i, j)\n",
    "                    storage = ids[i-1]\n",
    "                    ids[i-1] = ids[j]\n",
    "                    ids[j] = storage\n",
    "            print(ids)"
   ]
  },
  {
   "cell_type": "code",
   "execution_count": 51,
   "metadata": {},
   "outputs": [
    {
     "name": "stdout",
     "output_type": "stream",
     "text": [
      "5 [1, 3, 4, 5, 2] [1234567, 2222222, 3333333, 4444444, 5555555]\n",
      "1 0\n",
      "[1234567, 2222222, 3333333, 4444444, 5555555]\n",
      "2 4\n",
      "[1234567, 5555555, 3333333, 4444444, 2222222]\n",
      "3 1\n",
      "[1234567, 3333333, 5555555, 4444444, 2222222]\n",
      "4 2\n",
      "[1234567, 3333333, 4444444, 5555555, 2222222]\n"
     ]
    }
   ],
   "source": [
    "with open(\"shuffle.in\", \"r\") as fin:\n",
    "    numb_of_cows = int(fin.readline().strip())\n",
    "    \n",
    "    line = fin.readline().strip().split(\" \")\n",
    "    arr = []\n",
    "    ids = []\n",
    "    for i in range(numb_of_cows):\n",
    "        arr.append(int(line[i]))\n",
    "    \n",
    "    line = fin.readline().strip().split(\" \")\n",
    "    for j in range(numb_of_cows):\n",
    "        ids.append(int(line[j]))\n",
    "\n",
    "print(numb_of_cows, arr, ids)\n",
    "vals = ids\n",
    "# for i in range(numb_of_cows):\n",
    "#     shuffle()\n",
    "shuffle()\n",
    "\n",
    "    \n",
    "# storage = ids[3-1]\n",
    "# ids[3-1] = ids[1]\n",
    "# ids[1] = storage\n",
    "\n",
    "# print(ids)\n"
   ]
  },
  {
   "cell_type": "code",
   "execution_count": 52,
   "metadata": {},
   "outputs": [
    {
     "data": {
      "text/plain": [
       "[1234567, 3333333, 4444444, 5555555, 2222222]"
      ]
     },
     "execution_count": 52,
     "metadata": {},
     "output_type": "execute_result"
    }
   ],
   "source": [
    "ids"
   ]
  },
  {
   "cell_type": "code",
   "execution_count": null,
   "metadata": {},
   "outputs": [],
   "source": []
  },
  {
   "cell_type": "code",
   "execution_count": null,
   "metadata": {},
   "outputs": [],
   "source": []
  },
  {
   "cell_type": "markdown",
   "metadata": {},
   "source": [
    "Milk measurement"
   ]
  },
  {
   "cell_type": "code",
   "execution_count": 49,
   "metadata": {},
   "outputs": [
    {
     "name": "stdout",
     "output_type": "stream",
     "text": [
      "[7, 4, 9, 1] ['Mildred', 'Elsie', 'Mildred', 'Bessie'] [3, -1, -1, 2]\n",
      "[1, 4, 4, 9]\n"
     ]
    }
   ],
   "source": [
    "days = []\n",
    "names = []\n",
    "vals = []\n",
    "\n",
    "with open(\"measurement.in\", \"r\") as fin:\n",
    "    numb_of_inputs = int(fin.readline().strip())\n",
    "    for i in range(numb_of_inputs):\n",
    "        line = fin.readline().strip().split(\" \")\n",
    "\n",
    "        days.append(int(line[0]))\n",
    "        names.append(line[1])\n",
    "        vals.append(int(line[2]))\n",
    "\n",
    "print(days, names, vals)\n",
    "\n",
    "days_done = []\n",
    "# for i in range(numb_of_inputs):\n",
    "#     day = min(days)\n",
    "\n",
    "for i in range(numb_of_inputs):\n",
    "    minimum = days[i]\n",
    "    for j in range(i+1, numb_of_inputs):\n",
    "        if days[j] < minimum:\n",
    "            minimum = days[j]\n",
    "            val = j\n",
    "    storage = days[i]\n",
    "    days[i] = minimum\n",
    "    days[val] = storage\n",
    "    \n",
    "print(days)"
   ]
  },
  {
   "cell_type": "code",
   "execution_count": null,
   "metadata": {},
   "outputs": [],
   "source": []
  }
 ],
 "metadata": {
  "kernelspec": {
   "display_name": "Python 3",
   "language": "python",
   "name": "python3"
  },
  "language_info": {
   "codemirror_mode": {
    "name": "ipython",
    "version": 3
   },
   "file_extension": ".py",
   "mimetype": "text/x-python",
   "name": "python",
   "nbconvert_exporter": "python",
   "pygments_lexer": "ipython3",
   "version": "3.7.1"
  }
 },
 "nbformat": 4,
 "nbformat_minor": 2
}

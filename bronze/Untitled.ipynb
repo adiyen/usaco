{
 "cells": [
  {
   "cell_type": "markdown",
   "metadata": {},
   "source": [
    "Teleport"
   ]
  },
  {
   "cell_type": "code",
   "execution_count": 1,
   "metadata": {},
   "outputs": [
    {
     "name": "stdout",
     "output_type": "stream",
     "text": [
      "10 9 2 8\n"
     ]
    }
   ],
   "source": [
    "with open(\"teleport.in\", \"r\") as fin:\n",
    "    line = fin.readline().strip().split(\" \")\n",
    "    a = int(line[0])\n",
    "    b = int(line[1])\n",
    "    x = int(line[2])\n",
    "    y = int(line[3])\n",
    "    print(a, b, x, y)\n",
    "    \n",
    "    answer = abs(a-b)\n",
    "    \n",
    "    answer = min(answer, abs(a-x) + abs(b-y), abs(a-y) + abs(b-x))\n",
    "\n",
    "with open(\"teleport.out\", \"w\") as fout:\n",
    "    fout.write(str(answer))\n",
    "    "
   ]
  },
  {
   "cell_type": "markdown",
   "metadata": {},
   "source": [
    "Hoofball"
   ]
  },
  {
   "cell_type": "code",
   "execution_count": 72,
   "metadata": {},
   "outputs": [],
   "source": [
    "def find_closest(cows_touched_ball, numbs_of_cows, cows, idx):\n",
    "    counter = idx\n",
    "    closest_numb = cows[counter-1]\n",
    "    closest = abs(cows[counter]-cows[counter-1])\n",
    "\n",
    "    if abs(cows[counter]-cows[counter+1]) < closest:\n",
    "            closest = abs(cows[counter+1]-cows[counter+1])\n",
    "            closest_numb = cows[counter+1]\n",
    "    while True:\n",
    "\n",
    "                \n",
    "#         for i in range(len(cows)-1):\n",
    "#             if abs(cows[i]-cows[counter]) < closest and i != counter:\n",
    "#                 closest = abs(cows[i]-cows[counter])\n",
    "#                 closest_numb = cows[i]\n",
    "        \n",
    "        if cows_touched_ball[closest_numb] == False:\n",
    "            cows_touched_ball[closest_numb] = True\n",
    "        else:\n",
    "            break\n",
    "        print(closest_numb)\n",
    "        if counter < len(cows)-2:\n",
    "            counter+=1"
   ]
  },
  {
   "cell_type": "code",
   "execution_count": 76,
   "metadata": {},
   "outputs": [
    {
     "name": "stdout",
     "output_type": "stream",
     "text": [
      "5\n",
      "{}\n"
     ]
    },
    {
     "ename": "KeyError",
     "evalue": "-1",
     "output_type": "error",
     "traceback": [
      "\u001b[0;31m---------------------------------------------------------------------------\u001b[0m",
      "\u001b[0;31mKeyError\u001b[0m                                  Traceback (most recent call last)",
      "\u001b[0;32m<ipython-input-76-428a3ffbbb53>\u001b[0m in \u001b[0;36m<module>\u001b[0;34m\u001b[0m\n\u001b[1;32m     40\u001b[0m \u001b[0mtrue_arr\u001b[0m \u001b[0;34m=\u001b[0m \u001b[0;34m[\u001b[0m\u001b[0;34m]\u001b[0m\u001b[0;34m\u001b[0m\u001b[0;34m\u001b[0m\u001b[0m\n\u001b[1;32m     41\u001b[0m \u001b[0;34m\u001b[0m\u001b[0m\n\u001b[0;32m---> 42\u001b[0;31m \u001b[0mprint\u001b[0m\u001b[0;34m(\u001b[0m\u001b[0mcows\u001b[0m\u001b[0;34m[\u001b[0m\u001b[0mi\u001b[0m\u001b[0;34m]\u001b[0m\u001b[0;34m,\u001b[0m \u001b[0mfind_closest\u001b[0m\u001b[0;34m(\u001b[0m\u001b[0mcows_touched_ball\u001b[0m\u001b[0;34m,\u001b[0m \u001b[0mnumbs_of_cows\u001b[0m\u001b[0;34m,\u001b[0m \u001b[0mcows\u001b[0m\u001b[0;34m,\u001b[0m \u001b[0;36m0\u001b[0m\u001b[0;34m)\u001b[0m\u001b[0;34m)\u001b[0m\u001b[0;34m\u001b[0m\u001b[0;34m\u001b[0m\u001b[0m\n\u001b[0m\u001b[1;32m     43\u001b[0m \u001b[0mcows_touched_ball\u001b[0m\u001b[0;34m[\u001b[0m\u001b[0;36m0\u001b[0m\u001b[0;34m]\u001b[0m \u001b[0;34m=\u001b[0m \u001b[0;32mTrue\u001b[0m\u001b[0;34m\u001b[0m\u001b[0;34m\u001b[0m\u001b[0m\n\u001b[1;32m     44\u001b[0m \u001b[0;34m\u001b[0m\u001b[0m\n",
      "\u001b[0;32m<ipython-input-72-993a19a9d1bc>\u001b[0m in \u001b[0;36mfind_closest\u001b[0;34m(cows_touched_ball, numbs_of_cows, cows, idx)\u001b[0m\n\u001b[1;32m     15\u001b[0m \u001b[0;31m#                 closest_numb = cows[i]\u001b[0m\u001b[0;34m\u001b[0m\u001b[0;34m\u001b[0m\u001b[0;34m\u001b[0m\u001b[0m\n\u001b[1;32m     16\u001b[0m \u001b[0;34m\u001b[0m\u001b[0m\n\u001b[0;32m---> 17\u001b[0;31m         \u001b[0;32mif\u001b[0m \u001b[0mcows_touched_ball\u001b[0m\u001b[0;34m[\u001b[0m\u001b[0mclosest_numb\u001b[0m\u001b[0;34m]\u001b[0m \u001b[0;34m==\u001b[0m \u001b[0;32mFalse\u001b[0m\u001b[0;34m:\u001b[0m\u001b[0;34m\u001b[0m\u001b[0;34m\u001b[0m\u001b[0m\n\u001b[0m\u001b[1;32m     18\u001b[0m             \u001b[0mcows_touched_ball\u001b[0m\u001b[0;34m[\u001b[0m\u001b[0mclosest_numb\u001b[0m\u001b[0;34m]\u001b[0m \u001b[0;34m=\u001b[0m \u001b[0;32mTrue\u001b[0m\u001b[0;34m\u001b[0m\u001b[0;34m\u001b[0m\u001b[0m\n\u001b[1;32m     19\u001b[0m         \u001b[0;32melse\u001b[0m\u001b[0;34m:\u001b[0m\u001b[0;34m\u001b[0m\u001b[0;34m\u001b[0m\u001b[0m\n",
      "\u001b[0;31mKeyError\u001b[0m: -1"
     ]
    }
   ],
   "source": [
    "with open(\"hoofball.in\", \"r\") as fin:\n",
    "    numbs_of_cows = int(fin.readline().strip())\n",
    "    print(numbs_of_cows)\n",
    "    line = fin.readline().strip().split(\" \")\n",
    "cows = []\n",
    "    \n",
    "min = int(line[0])\n",
    "for i in range(numbs_of_cows):\n",
    "    cows.append(int(line[i]))\n",
    "\n",
    "cows_touched_ball = {}\n",
    "    \n",
    "# for i in range(numbs_of_cows):\n",
    "#     for j in range(numbs_of_cows):\n",
    "#         if cows[j] > cows[i]:\n",
    "#             storage = cows[j]\n",
    "#             cows[j] = cows[i]\n",
    "#             cows[i] = storage\n",
    "        \n",
    "cows = sorted(cows)\n",
    "\n",
    "\n",
    "\n",
    "\n",
    "\n",
    "    \n",
    "print(cows_touched_ball)\n",
    "    \n",
    "cows.append(-1)\n",
    "\n",
    "for i in range(numbs_of_cows):\n",
    "    cows_touched_ball[cows[i]] = False\n",
    "    \n",
    "# print(runner(cows_touched_ball, numbs_of_cows, cows))\n",
    "# for i in range(numbs_of_cows):\n",
    "# #     for j in range(numbs_of_cows):\n",
    "# #         if cows_touched_ball[cows[j]] == \"False\":\n",
    "       \n",
    "ball_count = 0 \n",
    "true_arr = []\n",
    "\n",
    "print(cows[i], find_closest(cows_touched_ball, numbs_of_cows, cows, 0))\n",
    "cows_touched_ball[0] = True\n",
    "\n",
    "# print(cows[i], find_closest(cows_touched_ball, numbs_of_cows, cows, 4))\n",
    "# cows_touched_ball[cows[4]] = True\n",
    "    \n",
    "\n",
    "print(cows_touched_ball)\n",
    "\n",
    "# for j in range(numbs_of_cows):\n",
    "#     min = cows[0]\n",
    "#     for i in range(numbs_of_cows):\n",
    "        \n",
    "#         print(cows[i], find_closest(cows_touched_ball, numbs_of_cows, cows, 0))\n",
    "#         cows_touched_ball[cows[0]] = True\n",
    "        \n",
    "\n",
    "print(cows)\n",
    "print(\"# of balls:\", ball_count)"
   ]
  },
  {
   "cell_type": "code",
   "execution_count": null,
   "metadata": {},
   "outputs": [],
   "source": []
  },
  {
   "cell_type": "code",
   "execution_count": 17,
   "metadata": {},
   "outputs": [],
   "source": [
    "#farthest to the left"
   ]
  },
  {
   "cell_type": "code",
   "execution_count": null,
   "metadata": {},
   "outputs": [],
   "source": []
  },
  {
   "cell_type": "code",
   "execution_count": 28,
   "metadata": {},
   "outputs": [
    {
     "data": {
      "text/plain": [
       "10"
      ]
     },
     "execution_count": 28,
     "metadata": {},
     "output_type": "execute_result"
    }
   ],
   "source": [
    "list_a = [1, 3, 4, 7, 10, 0]\n",
    "list_a.pop(len(list)-1)"
   ]
  },
  {
   "cell_type": "code",
   "execution_count": 29,
   "metadata": {},
   "outputs": [
    {
     "ename": "TypeError",
     "evalue": "'int' object is not callable",
     "output_type": "error",
     "traceback": [
      "\u001b[0;31m---------------------------------------------------------------------------\u001b[0m",
      "\u001b[0;31mTypeError\u001b[0m                                 Traceback (most recent call last)",
      "\u001b[0;32m<ipython-input-29-3615a4df12b4>\u001b[0m in \u001b[0;36m<module>\u001b[0;34m\u001b[0m\n\u001b[0;32m----> 1\u001b[0;31m \u001b[0mmin\u001b[0m\u001b[0;34m(\u001b[0m\u001b[0mlist_a\u001b[0m\u001b[0;34m)\u001b[0m\u001b[0;34m\u001b[0m\u001b[0;34m\u001b[0m\u001b[0m\n\u001b[0m",
      "\u001b[0;31mTypeError\u001b[0m: 'int' object is not callable"
     ]
    }
   ],
   "source": [
    "min(list_a)"
   ]
  },
  {
   "cell_type": "code",
   "execution_count": 64,
   "metadata": {},
   "outputs": [
    {
     "name": "stdout",
     "output_type": "stream",
     "text": [
      "1\n"
     ]
    }
   ],
   "source": [
    "vals = [0, 1]\n",
    "print(vals[-1])"
   ]
  },
  {
   "cell_type": "code",
   "execution_count": null,
   "metadata": {},
   "outputs": [],
   "source": []
  }
 ],
 "metadata": {
  "kernelspec": {
   "display_name": "Python 3",
   "language": "python",
   "name": "python3"
  },
  "language_info": {
   "codemirror_mode": {
    "name": "ipython",
    "version": 3
   },
   "file_extension": ".py",
   "mimetype": "text/x-python",
   "name": "python",
   "nbconvert_exporter": "python",
   "pygments_lexer": "ipython3",
   "version": "3.7.1"
  }
 },
 "nbformat": 4,
 "nbformat_minor": 2
}

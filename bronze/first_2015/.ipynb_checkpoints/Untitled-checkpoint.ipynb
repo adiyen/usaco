{
 "cells": [
  {
   "cell_type": "code",
   "execution_count": 1,
   "metadata": {},
   "outputs": [],
   "source": [
    "with open(\"paint.in\", \"r\") as fin:\n",
    "    line1 = fin.readline().strip().split(\" \")\n",
    "    line2 = fin.readline().strip().split(\" \")\n",
    "    a = int(line1[0]); b = int(line1[1])\n",
    "    c = int(line2[0]); d = int(line2[1])\n",
    "    \n",
    "answer = 0\n",
    "\n",
    "for i in range(100):\n",
    "    if i > a-1 and i < b:\n",
    "        answer+=1\n",
    "    elif i > c-1 and i < d:\n",
    "        answer+=1\n",
    "\n",
    "with open(\"paint.out\", \"w\") as fout:\n",
    "    fout.write(str(answer))"
   ]
  },
  {
   "cell_type": "code",
   "execution_count": null,
   "metadata": {},
   "outputs": [],
   "source": []
  },
  {
   "cell_type": "code",
   "execution_count": null,
   "metadata": {},
   "outputs": [],
   "source": [
    "with open(\"speeding.in\") as fin:\n",
    "    line1 = fin.readline().strip.split(\" \")\n",
    "    N = int(line1[0]); M = int(line1[1])\n",
    "    \n",
    "    print(N, M)"
   ]
  }
 ],
 "metadata": {
  "kernelspec": {
   "display_name": "Python 3",
   "language": "python",
   "name": "python3"
  },
  "language_info": {
   "codemirror_mode": {
    "name": "ipython",
    "version": 3
   },
   "file_extension": ".py",
   "mimetype": "text/x-python",
   "name": "python",
   "nbconvert_exporter": "python",
   "pygments_lexer": "ipython3",
   "version": "3.7.1"
  }
 },
 "nbformat": 4,
 "nbformat_minor": 2
}

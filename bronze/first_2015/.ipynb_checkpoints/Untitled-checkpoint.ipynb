{
 "cells": [
  {
   "cell_type": "markdown",
   "metadata": {},
   "source": [
    "#Problem 1: Fencepainting"
   ]
  },
  {
   "cell_type": "code",
   "execution_count": 5,
   "metadata": {},
   "outputs": [],
   "source": [
    "with open(\"paint.in\", \"r\") as fin:\n",
    "    line1 = fin.readline().strip().split(\" \")\n",
    "    line2 = fin.readline().strip().split(\" \")\n",
    "    a = int(line1[0]); b = int(line1[1])\n",
    "    c = int(line2[0]); d = int(line2[1])\n",
    "    \n",
    "answer = 0\n",
    "\n",
    "for i in range(100):\n",
    "    if i > a and i <= b:\n",
    "        answer+=1\n",
    "    elif i > c and i <= d:\n",
    "        answer+=1\n",
    "\n",
    "\n",
    "with open(\"paint.out\", \"w\") as fout:\n",
    "    fout.write(str(answer))"
   ]
  },
  {
   "cell_type": "markdown",
   "metadata": {},
   "source": [
    "#Problem 2: Speeding Ticket"
   ]
  },
  {
   "cell_type": "code",
   "execution_count": 31,
   "metadata": {},
   "outputs": [
    {
     "name": "stdout",
     "output_type": "stream",
     "text": [
      "['3', '3']\n",
      "['40', '75']\n",
      "['50', '35']\n",
      "['10', '45']\n",
      "['40', '76']\n",
      "['20', '30']\n",
      "['40', '40']\n"
     ]
    }
   ],
   "source": [
    "with open(\"speeding.in\", \"r\") as fin:\n",
    "    for line in fin:\n",
    "        print(line.strip().split(\" \"))"
   ]
  },
  {
   "cell_type": "code",
   "execution_count": 221,
   "metadata": {},
   "outputs": [
    {
     "name": "stdout",
     "output_type": "stream",
     "text": [
      "3 3\n",
      "[40, 50, 10] [75, 35, 45]\n",
      "[40, 20, 40] [76, 30, 40]\n",
      "[75, 35, 35, 45] [76, 30, 40, 40]\n",
      "max: 5\n"
     ]
    }
   ],
   "source": [
    "allowed_segment, allowed_speed = [], []\n",
    "bessie_segment, bessie_speed = [], []\n",
    "\n",
    "with open(\"speeding.in\", \"r\") as fin:\n",
    "    line1 = fin.readline().strip().split(\" \")\n",
    "    N = int(line1[0]); M = int(line1[1])\n",
    "    \n",
    "    print(N, M)\n",
    "    \n",
    "    for i in range(N):\n",
    "        line = fin.readline().strip().split(\" \")\n",
    "        allowed_segment.append(int(line[0]))\n",
    "        allowed_speed.append(int(line[1]) )\n",
    "    for j in range(M):\n",
    "        line = fin.readline().strip().split(\" \")\n",
    "        bessie_segment.append(int(line[0]))\n",
    "        bessie_speed.append(int(line[1]))\n",
    "\n",
    "maximum = 0\n",
    "\n",
    "print(allowed_segment, allowed_speed)\n",
    "print(bessie_segment, bessie_speed)\n",
    "\n",
    "counter = 0\n",
    "for i in range(len(allowed_segment)):\n",
    "    allowed_segment[i] = counter+allowed_segment[i]\n",
    "    counter = allowed_segment[i]\n",
    "    \n",
    "counter = 0\n",
    "for i in range(len(bessie_segment)):\n",
    "    bessie_segment[i] = counter+bessie_segment[i]\n",
    "    counter = bessie_segment[i]\n",
    "    \n",
    "allowed_numbs, bessie_numbs = [], []\n",
    "i = 0; j = 0\n",
    "while i < N or j < M:\n",
    "    if allowed_segment[i] < bessie_segment[j]:\n",
    "        allowed_numbs.append(allowed_speed[i])\n",
    "        bessie_numbs.append(bessie_speed[j])\n",
    "        i+=1\n",
    "    elif allowed_segment[i] <= bessie_segment[j]:\n",
    "        allowed_numbs.append(allowed_speed[i])\n",
    "        bessie_numbs.append(bessie_speed[j])\n",
    "        i+=1; j+=1\n",
    "    else:\n",
    "        allowed_numbs.append(allowed_speed[i])\n",
    "        bessie_numbs.append(bessie_speed[j])\n",
    "        j+=1\n",
    "print(allowed_numbs, bessie_numbs)\n",
    "\n",
    "\n",
    "for i in range(len(allowed_numbs)):\n",
    "    if bessie_numbs[i] > allowed_numbs[i]:\n",
    "        maximum = max(maximum, bessie_numbs[i]-allowed_numbs[i])\n",
    "print(\"max:\", maximum)\n",
    "# for i in range(M):\n",
    "#     if bessie_segment[i] < allowed_segment[i]:\n",
    "#         storage = allowed_segment[i]\n",
    "#         allowed_segment[i] = bessie_segment[i]\n",
    "#         allowed_segment.insert(i+1, storage-bessie_segment[i])\n",
    "#         allowed_speed.insert(i+1, allowed_speed[i])\n",
    "        \n",
    "#     elif bessie_segment[i] > allowed_segment[i]:\n",
    "#         storage = bessie_segment[i]\n",
    "#         bessie_segment[i] = allowed_segment[i]\n",
    "#         bessie_segment.insert(i+1, storage-allowed_segment[i])\n",
    "#         bessie_speed.insert(i+1, bessie_speed[i])\n",
    "        \n",
    "# for j in range(M):\n",
    "#     if bessie_speed[j] > allowed_speed[j]:\n",
    "#         maximum = max(maximum, bessie_speed[j]-allowed_speed[j])\n",
    "# allowed_numbs, bessie_numbs = [], []\n",
    "# maximum = 0\n",
    "# for j in range(N):\n",
    "#     for i in range(allowed_segment[j]):\n",
    "#         if i < allowed_segment[j]+1:\n",
    "#             allowed_numbs.append(allowed_speed[j])\n",
    "            \n",
    "# for j in range(M):\n",
    "#     for i in range(bessie_segment[j]):\n",
    "#         if i < bessie_segment[j]+1:\n",
    "#             bessie_numbs.append(bessie_speed[j])\n",
    "            \n",
    "        \n",
    "# for k in range(100):\n",
    "#     if bessie_numbs[k] > allowed_numbs[k]:\n",
    "#         if bessie_numbs[k]-allowed_numbs[k] > maximum:\n",
    "#             maximum = bessie_numbs[k]-allowed_numbs[k]\n",
    "            \n",
    "with open(\"speeding.out\", \"w\") as fout:\n",
    "    fout.write(str(maximum))"
   ]
  },
  {
   "cell_type": "code",
   "execution_count": 213,
   "metadata": {},
   "outputs": [
    {
     "data": {
      "text/plain": [
       "([40, 90, 100], [75, 35, 45])"
      ]
     },
     "execution_count": 213,
     "metadata": {},
     "output_type": "execute_result"
    }
   ],
   "source": [
    "allowed_segment, allowed_speed"
   ]
  },
  {
   "cell_type": "code",
   "execution_count": 214,
   "metadata": {},
   "outputs": [
    {
     "data": {
      "text/plain": [
       "([40, 60, 100], [76, 30, 40])"
      ]
     },
     "execution_count": 214,
     "metadata": {},
     "output_type": "execute_result"
    }
   ],
   "source": [
    "bessie_segment, bessie_speed"
   ]
  },
  {
   "cell_type": "code",
   "execution_count": 202,
   "metadata": {},
   "outputs": [
    {
     "data": {
      "text/plain": [
       "5"
      ]
     },
     "execution_count": 202,
     "metadata": {},
     "output_type": "execute_result"
    }
   ],
   "source": []
  },
  {
   "cell_type": "code",
   "execution_count": 191,
   "metadata": {},
   "outputs": [
    {
     "data": {
      "text/plain": [
       "([75,\n",
       "  75,\n",
       "  75,\n",
       "  75,\n",
       "  75,\n",
       "  75,\n",
       "  75,\n",
       "  75,\n",
       "  75,\n",
       "  75,\n",
       "  75,\n",
       "  75,\n",
       "  75,\n",
       "  75,\n",
       "  75,\n",
       "  75,\n",
       "  75,\n",
       "  75,\n",
       "  75,\n",
       "  75,\n",
       "  75,\n",
       "  75,\n",
       "  75,\n",
       "  75,\n",
       "  75,\n",
       "  75,\n",
       "  75,\n",
       "  75,\n",
       "  75,\n",
       "  75,\n",
       "  75,\n",
       "  75,\n",
       "  75,\n",
       "  75,\n",
       "  75,\n",
       "  75,\n",
       "  75,\n",
       "  75,\n",
       "  75,\n",
       "  75,\n",
       "  35,\n",
       "  35,\n",
       "  35,\n",
       "  35,\n",
       "  35,\n",
       "  35,\n",
       "  35,\n",
       "  35,\n",
       "  35,\n",
       "  35,\n",
       "  35,\n",
       "  35,\n",
       "  35,\n",
       "  35,\n",
       "  35,\n",
       "  35,\n",
       "  35,\n",
       "  35,\n",
       "  35,\n",
       "  35,\n",
       "  35,\n",
       "  35,\n",
       "  35,\n",
       "  35,\n",
       "  35,\n",
       "  35,\n",
       "  35,\n",
       "  35,\n",
       "  35,\n",
       "  35,\n",
       "  35,\n",
       "  35,\n",
       "  35,\n",
       "  35,\n",
       "  35,\n",
       "  35,\n",
       "  35,\n",
       "  35,\n",
       "  35,\n",
       "  35,\n",
       "  35,\n",
       "  35,\n",
       "  35,\n",
       "  35,\n",
       "  35,\n",
       "  35,\n",
       "  35,\n",
       "  35,\n",
       "  35,\n",
       "  35,\n",
       "  45,\n",
       "  45,\n",
       "  45,\n",
       "  45,\n",
       "  45,\n",
       "  45,\n",
       "  45,\n",
       "  45,\n",
       "  45,\n",
       "  45],\n",
       " 100)"
      ]
     },
     "execution_count": 191,
     "metadata": {},
     "output_type": "execute_result"
    }
   ],
   "source": [
    "allowed_numbs, len(numbs)"
   ]
  },
  {
   "cell_type": "code",
   "execution_count": 197,
   "metadata": {},
   "outputs": [
    {
     "data": {
      "text/plain": [
       "([76,\n",
       "  76,\n",
       "  76,\n",
       "  76,\n",
       "  76,\n",
       "  76,\n",
       "  76,\n",
       "  76,\n",
       "  76,\n",
       "  76,\n",
       "  76,\n",
       "  76,\n",
       "  76,\n",
       "  76,\n",
       "  76,\n",
       "  76,\n",
       "  76,\n",
       "  76,\n",
       "  76,\n",
       "  76,\n",
       "  76,\n",
       "  76,\n",
       "  76,\n",
       "  76,\n",
       "  76,\n",
       "  76,\n",
       "  76,\n",
       "  76,\n",
       "  76,\n",
       "  76,\n",
       "  76,\n",
       "  76,\n",
       "  76,\n",
       "  76,\n",
       "  76,\n",
       "  76,\n",
       "  76,\n",
       "  76,\n",
       "  76,\n",
       "  76,\n",
       "  30,\n",
       "  30,\n",
       "  30,\n",
       "  30,\n",
       "  30,\n",
       "  30,\n",
       "  30,\n",
       "  30,\n",
       "  30,\n",
       "  30,\n",
       "  30,\n",
       "  30,\n",
       "  30,\n",
       "  30,\n",
       "  30,\n",
       "  30,\n",
       "  30,\n",
       "  30,\n",
       "  30,\n",
       "  30,\n",
       "  40,\n",
       "  40,\n",
       "  40,\n",
       "  40,\n",
       "  40,\n",
       "  40,\n",
       "  40,\n",
       "  40,\n",
       "  40,\n",
       "  40,\n",
       "  40,\n",
       "  40,\n",
       "  40,\n",
       "  40,\n",
       "  40,\n",
       "  40,\n",
       "  40,\n",
       "  40,\n",
       "  40,\n",
       "  40,\n",
       "  40,\n",
       "  40,\n",
       "  40,\n",
       "  40,\n",
       "  40,\n",
       "  40,\n",
       "  40,\n",
       "  40,\n",
       "  40,\n",
       "  40,\n",
       "  40,\n",
       "  40,\n",
       "  40,\n",
       "  40,\n",
       "  40,\n",
       "  40,\n",
       "  40,\n",
       "  40,\n",
       "  40,\n",
       "  40],\n",
       " 100)"
      ]
     },
     "execution_count": 197,
     "metadata": {},
     "output_type": "execute_result"
    }
   ],
   "source": [
    "bessie_numbs, len(bessie_numbs)"
   ]
  },
  {
   "cell_type": "markdown",
   "metadata": {},
   "source": [
    "#Problem 3: Contaminated Milk"
   ]
  },
  {
   "cell_type": "code",
   "execution_count": 198,
   "metadata": {},
   "outputs": [
    {
     "ename": "FileNotFoundError",
     "evalue": "[Errno 2] No such file or directory: 'badmilk.in'",
     "output_type": "error",
     "traceback": [
      "\u001b[0;31m---------------------------------------------------------------------------\u001b[0m",
      "\u001b[0;31mFileNotFoundError\u001b[0m                         Traceback (most recent call last)",
      "\u001b[0;32m<ipython-input-198-d5210a5ce5be>\u001b[0m in \u001b[0;36m<module>\u001b[0;34m\u001b[0m\n\u001b[0;32m----> 1\u001b[0;31m \u001b[0;32mwith\u001b[0m \u001b[0mopen\u001b[0m\u001b[0;34m(\u001b[0m\u001b[0;34m\"badmilk.in\"\u001b[0m\u001b[0;34m,\u001b[0m \u001b[0;34m\"r\"\u001b[0m\u001b[0;34m)\u001b[0m \u001b[0;32mas\u001b[0m \u001b[0mfin\u001b[0m\u001b[0;34m:\u001b[0m\u001b[0;34m\u001b[0m\u001b[0;34m\u001b[0m\u001b[0m\n\u001b[0m\u001b[1;32m      2\u001b[0m     \u001b[0mfin\u001b[0m\u001b[0;34m.\u001b[0m\u001b[0mreadline\u001b[0m\u001b[0;34m(\u001b[0m\u001b[0;34m)\u001b[0m\u001b[0;34m.\u001b[0m\u001b[0mstrip\u001b[0m\u001b[0;34m(\u001b[0m\u001b[0;34m)\u001b[0m\u001b[0;34m.\u001b[0m\u001b[0msplit\u001b[0m\u001b[0;34m(\u001b[0m\u001b[0;34m\" \"\u001b[0m\u001b[0;34m)\u001b[0m\u001b[0;34m\u001b[0m\u001b[0;34m\u001b[0m\u001b[0m\n",
      "\u001b[0;31mFileNotFoundError\u001b[0m: [Errno 2] No such file or directory: 'badmilk.in'"
     ]
    }
   ],
   "source": [
    "with open(\"badmilk.in\", \"r\") as fin:\n",
    "    fin.readline().strip().split(\" \")"
   ]
  },
  {
   "cell_type": "code",
   "execution_count": null,
   "metadata": {},
   "outputs": [],
   "source": []
  }
 ],
 "metadata": {
  "kernelspec": {
   "display_name": "Python 3",
   "language": "python",
   "name": "python3"
  },
  "language_info": {
   "codemirror_mode": {
    "name": "ipython",
    "version": 3
   },
   "file_extension": ".py",
   "mimetype": "text/x-python",
   "name": "python",
   "nbconvert_exporter": "python",
   "pygments_lexer": "ipython3",
   "version": "3.7.1"
  }
 },
 "nbformat": 4,
 "nbformat_minor": 2
}

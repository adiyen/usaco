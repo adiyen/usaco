{
 "cells": [
  {
   "cell_type": "code",
   "execution_count": 125,
   "metadata": {},
   "outputs": [
    {
     "name": "stdout",
     "output_type": "stream",
     "text": [
      "2\n"
     ]
    }
   ],
   "source": [
    "numbs = []\n",
    "numbs1 = []\n",
    "\n",
    "def is_consecutive(a, b, c):\n",
    "    if a+1==b and b+1==c:\n",
    "        return True\n",
    "    elif a-1==b and b-1==c:\n",
    "        return True\n",
    "    return False\n",
    "\n",
    "with open(\"herding.in\", \"r\") as fin:\n",
    "    line = fin.readline().strip().split(\" \")\n",
    "    bessie = int(line[0]); elsie = int(line[1]); mildred = int(line[2])\n",
    "    #print(bessie, elsie, mildred)\n",
    "    \n",
    "    for i in range(3):\n",
    "        numbs.append(int(line[i]))\n",
    "        numbs1.append(int(line[i]))\n",
    "    \n",
    "    \n",
    "#     for i in range(2):\n",
    "#         if abs(numbs[i] - numbs[i+1]) == 2:\\\n",
    "# vals = []\n",
    "# vals.append(abs(numbs[0]-numbs[1]))\n",
    "# vals.append(abs(numbs[1]-numbs[2]))\n",
    "# min_answer = min(vals)-1\n",
    "\n",
    "# if min_answer == 0 and is_consecutive(numbs[0], numbs[1], numbs[2]) == False:\n",
    "#     min_answer = 1\n",
    "\n",
    "# print(min_answer)\n",
    "\n",
    "# vals = []\n",
    "# vals.append(abs(numbs[0]-numbs[1]))\n",
    "# vals.append(abs(numbs[1]-numbs[2]))\n",
    "# min_answer = min(vals)-1\n",
    "\n",
    "# if min_answer == 0 and is_consecutive(numbs[0], numbs[1], numbs[2]) == False:\n",
    "#     min_answer = 1\n",
    "\n",
    "# print(min_answer)\n",
    "counter = 0\n",
    "if abs(numbs[1]-numbs[2]) == 2:\n",
    "    counter+=1\n",
    "\n",
    "else:\n",
    "    while not is_consecutive(numbs[0], numbs[1], numbs[2]):\n",
    "        if counter % 2 == 0:\n",
    "            numbs.pop(0)\n",
    "            numbs.insert(1, numbs[0]+2)\n",
    "        else:\n",
    "            numbs.pop()\n",
    "            numbs.insert(1, numbs[0]+1)\n",
    "        counter+=1\n",
    "        \n",
    "min_answer = counter\n",
    "print(counter)\n",
    "\n",
    "# while not is_consecutive(numbs[0], numbs[1], numbs[2]):\n",
    "#     if counter % 2 == 0:\n",
    "#         numbs.pop(0)\n",
    "#         numbs.insert(1, numbs[0]+2)\n",
    "#     else:\n",
    "#         numbs.pop()\n",
    "#         numbs.insert(1, numbs[0]+1)\n",
    "#     counter+=1\n",
    "# with open(\"herding.out\", \"w\") as fout:\n",
    "#     fout.write(str(find_min(numbs)))\n",
    "#     fout.write('\\n')\n",
    "#     fout.write(str(find_max(numbs1)))\n",
    "\n",
    "# vals = []\n",
    "# vals.append(abs(numbs[0]-numbs[1]))\n",
    "# vals.append(abs(numbs[1]-numbs[2]))\n",
    "# answer = max(vals)-1\n",
    "\n",
    "while not is_consecutive(numbs[0], numbs[1], numbs[2]):\n",
    "    if counter % 2 == 0:\n",
    "        numbs.pop(0)\n",
    "        numbs.insert(1, numbs[-1]-1)\n",
    "    else:\n",
    "        numbs.pop()\n",
    "        numbs.insert(1, numbs[-1]+1)\n",
    "    counter+=1\n",
    "\n",
    "with open(\"herding.out\", \"w\") as fout:\n",
    "    fout.write(str(min_answer))\n",
    "    fout.write('\\n')\n",
    "    fout.write(str(answer))"
   ]
  },
  {
   "cell_type": "code",
   "execution_count": 70,
   "metadata": {},
   "outputs": [
    {
     "ename": "NameError",
     "evalue": "name 'counter1' is not defined",
     "output_type": "error",
     "traceback": [
      "\u001b[1;31m---------------------------------------------------------------------------\u001b[0m",
      "\u001b[1;31mNameError\u001b[0m                                 Traceback (most recent call last)",
      "\u001b[1;32m<ipython-input-70-a3b1b4730853>\u001b[0m in \u001b[0;36m<module>\u001b[1;34m\u001b[0m\n\u001b[1;32m----> 1\u001b[1;33m \u001b[0mnumbs\u001b[0m\u001b[1;33m,\u001b[0m \u001b[0mcounter\u001b[0m\u001b[1;33m,\u001b[0m \u001b[0mcounter1\u001b[0m\u001b[1;33m\u001b[0m\u001b[0m\n\u001b[0m",
      "\u001b[1;31mNameError\u001b[0m: name 'counter1' is not defined"
     ]
    }
   ],
   "source": [
    "numbs, counter, counter1"
   ]
  },
  {
   "cell_type": "code",
   "execution_count": 31,
   "metadata": {},
   "outputs": [
    {
     "data": {
      "text/plain": [
       "(0, 9)"
      ]
     },
     "execution_count": 31,
     "metadata": {},
     "output_type": "execute_result"
    }
   ],
   "source": [
    "minimum, maximum"
   ]
  },
  {
   "cell_type": "code",
   "execution_count": null,
   "metadata": {},
   "outputs": [],
   "source": []
  },
  {
   "cell_type": "code",
   "execution_count": 424,
   "metadata": {},
   "outputs": [
    {
     "ename": "SyntaxError",
     "evalue": "invalid syntax (<ipython-input-424-a60c7e21bf8e>, line 43)",
     "output_type": "error",
     "traceback": [
      "\u001b[1;36m  File \u001b[1;32m\"<ipython-input-424-a60c7e21bf8e>\"\u001b[1;36m, line \u001b[1;32m43\u001b[0m\n\u001b[1;33m    numb = (numbs[i], end=\"\")+numb\u001b[0m\n\u001b[1;37m                         ^\u001b[0m\n\u001b[1;31mSyntaxError\u001b[0m\u001b[1;31m:\u001b[0m invalid syntax\n"
     ]
    }
   ],
   "source": [
    "pastures = []\n",
    "dict = {}\n",
    "numbs = []\n",
    "with open(\"revegetate.in\", \"r\") as fin:\n",
    "    line = fin.readline().strip().split(\" \")\n",
    "    N = int(line[0]); M = int(line[1])\n",
    "    \n",
    "    for i in range(M):\n",
    "        line = fin.readline().strip().split(\" \")\n",
    "#         pastures.append(int(line[0])); pastures.append(int(line[1]))\n",
    "        dict[int(line[0])] = []\n",
    "        dict[int(line[1])] = []\n",
    "\n",
    "with open(\"revegetate.in\", \"r\") as fin:\n",
    "    line = fin.readline().strip().split(\" \")\n",
    "    for i in range(M):\n",
    "        line = fin.readline().strip().split(\" \")\n",
    "#         pastures.append(int(line[0])); pastures.append(int(line[1]))\n",
    "        if int(line[1]) < int(line[0]):\n",
    "            dict[int(line[0])].append(int(line[1]))\n",
    "        if int(line[0]) < int(line[1]):\n",
    "            dict[int(line[1])].append(int(line[0]))\n",
    "arr = []\n",
    "numbs = []\n",
    "last_numb = 1\n",
    "for j in range(1, len(dict)+1):\n",
    "    print(j)\n",
    "    if len(dict[j]) == 0:\n",
    "        numbs.append(1)\n",
    "        arr.append(1)\n",
    "    elif min(dict[j]) in arr:\n",
    "        for k in range(len(dict[j])):\n",
    "            if len(dict[j]) > 1 and min(dict[j]) in arr:\n",
    "                dict[j].pop(k)\n",
    "            else:\n",
    "                pass\n",
    "        numbs.append(dict[j][0])\n",
    "    else:\n",
    "        numbs.append(min(dict[j]))\n",
    "        arr.append(min(dict[j]))\n",
    "        \n",
    "for i in range(N):\n",
    "    numb = (numbs[i], end=\"\")\n",
    "    \n",
    "with open"
   ]
  },
  {
   "cell_type": "code",
   "execution_count": 411,
   "metadata": {},
   "outputs": [
    {
     "data": {
      "text/plain": [
       "[]"
      ]
     },
     "execution_count": 411,
     "metadata": {},
     "output_type": "execute_result"
    }
   ],
   "source": [
    "pastures"
   ]
  },
  {
   "cell_type": "code",
   "execution_count": 412,
   "metadata": {},
   "outputs": [
    {
     "data": {
      "text/plain": [
       "{4: [2, 3], 1: [], 2: [1], 3: [], 5: [1]}"
      ]
     },
     "execution_count": 412,
     "metadata": {},
     "output_type": "execute_result"
    }
   ],
   "source": [
    "dict"
   ]
  },
  {
   "cell_type": "code",
   "execution_count": 413,
   "metadata": {},
   "outputs": [
    {
     "data": {
      "text/plain": [
       "[1, 1, 1, 2, 1]"
      ]
     },
     "execution_count": 413,
     "metadata": {},
     "output_type": "execute_result"
    }
   ],
   "source": [
    "numbs"
   ]
  },
  {
   "cell_type": "code",
   "execution_count": null,
   "metadata": {},
   "outputs": [],
   "source": []
  },
  {
   "cell_type": "code",
   "execution_count": null,
   "metadata": {},
   "outputs": [],
   "source": []
  }
 ],
 "metadata": {
  "kernelspec": {
   "display_name": "Python 3",
   "language": "python",
   "name": "python3"
  },
  "language_info": {
   "codemirror_mode": {
    "name": "ipython",
    "version": 3
   },
   "file_extension": ".py",
   "mimetype": "text/x-python",
   "name": "python",
   "nbconvert_exporter": "python",
   "pygments_lexer": "ipython3",
   "version": "3.6.5"
  }
 },
 "nbformat": 4,
 "nbformat_minor": 2
}

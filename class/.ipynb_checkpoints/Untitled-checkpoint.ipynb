{
 "cells": [
  {
   "cell_type": "code",
   "execution_count": 135,
   "metadata": {},
   "outputs": [],
   "source": [
    "with open(\"square.in\", \"r\") as fin:\n",
    "    rect_1 = []\n",
    "    rect_2 = []\n",
    "    line1 = fin.readline().strip().split(\" \")\n",
    "    line2 = fin.readline().strip().split(\" \")\n",
    "    \n",
    "    for i in range(4):\n",
    "        rect_1.append(int(line1[i]))\n",
    "        rect_2.append(int(line2[i]))\n",
    "            \n",
    "r1_x1, r1_y1, r1_x2, r1_y2 = rect_1\n",
    "r2_x1, r2_y1, r2_x2, r2_y2 = rect_2\n",
    "\n",
    "x_min = min(r1_x1, r1_x2, r2_x1, r2_x2)\n",
    "x_max = max(r1_x1, r1_x2, r2_x1, r2_x2)\n",
    "\n",
    "y_min = min(r1_y1, r1_y2, r2_y1, r2_y2)\n",
    "y_max = max(r1_y1, r1_y2, r2_y1, r2_y2)\n",
    "\n",
    "x = x_max-x_min\n",
    "y = y_max-y_min\n",
    "\n",
    "numb = max(x, y)\n",
    "answer = numb*numb\n",
    "\n",
    "with open(\"square.out\", \"w\") as fout:\n",
    "    fout.write(str(answer))"
   ]
  },
  {
   "cell_type": "markdown",
   "metadata": {},
   "source": [
    "Blocks"
   ]
  },
  {
   "cell_type": "code",
   "execution_count": 182,
   "metadata": {},
   "outputs": [
    {
     "name": "stdout",
     "output_type": "stream",
     "text": [
      "['fox', 'box', 'dog', 'cat', 'car', 'bus']\n",
      "['f', 'o', 'x', 'b', 'd', 'o', 'g', 'c', 'a', 't', 'c', 'a', 'r', 'b', 'u', 's']\n",
      "f 1\n",
      "o 2\n",
      "x 1\n",
      "b 2\n",
      "d 1\n",
      "o 2\n",
      "g 1\n",
      "c 2\n",
      "a 2\n",
      "t 1\n",
      "c 2\n",
      "a 2\n",
      "r 1\n",
      "b 2\n",
      "u 1\n",
      "s 1\n",
      "[2, 2, 2, 1, 0, 1, 1, 0, 0, 0, 0, 0, 0, 0, 2, 0, 0, 1, 1, 1, 1, 0, 0, 1, 0, 0]\n"
     ]
    }
   ],
   "source": [
    "with open(\"blocks.in\", \"r\") as fin:\n",
    "    words = []\n",
    "    n = int(fin.readline().strip())\n",
    "    for i in range(n):\n",
    "        line = fin.readline().strip().split(\" \")\n",
    "        words.append(line[0]); words.append(line[1])\n",
    "        \n",
    "    print(words)\n",
    "    \n",
    "letters = []\n",
    "for i in range(n*2):\n",
    "    for j in range(len(words[i])):\n",
    "        if i == 0 or i % 2 == 0:\n",
    "            letters.append(words[i][j])\n",
    "        elif words[i][j] not in words[i-1]:\n",
    "#                 if i-1 % 2 == 0: \n",
    "            letters.append(words[i][j])\n",
    "            \n",
    "            \n",
    "print(letters)\n",
    "\n",
    "letter_numbs = [0, 0, 0, 0, 0, 0, 0, 0, 0, 0, 0, 0, 0, 0, 0, 0, 0, 0, 0, 0, 0, 0, 0, 0, 0, 0]\n",
    "\n",
    "#     for i in range(len(words)):\n",
    "#         counter = 0\n",
    "#         for j in range(len(words)):\n",
    "#             if words[i][i] == words[i]:\n",
    "#                 counter+=1\n",
    "#         print(counter)\n",
    "\n",
    "for i in range(len(letters)):\n",
    "    counter = 0\n",
    "    for j in range(len(letters)):\n",
    "        if ord(letters[i]) == ord(letters[j]):\n",
    "            counter+=1\n",
    "\n",
    "    letter_numbs[ord(letters[i])-97] = counter\n",
    "    print(letters[i], counter)\n",
    "        \n",
    "print(letter_numbs)\n",
    "\n",
    "with open(\"blocks.out\", \"w\") as fout:\n",
    "    for i in range(26):\n",
    "        fout.write(str(letter_numbs[i]))"
   ]
  },
  {
   "cell_type": "markdown",
   "metadata": {},
   "source": [
    "cow signal"
   ]
  },
  {
   "cell_type": "code",
   "execution_count": 131,
   "metadata": {},
   "outputs": [],
   "source": [
    "with open(\"cowsignal.in\", \"r\") as fin:\n",
    "    line1 = fin.readline().strip().split(\" \")\n",
    "    m = int(line1[0]); n = int(line1[1]); k = int(line1[2])\n",
    "    string = []\n",
    "    \n",
    "    for i in range(m):\n",
    "        line = fin.readline().strip()\n",
    "        for j in range(n):\n",
    "            string.append(line[j])\n",
    "\n",
    "counter = 1\n",
    "\n",
    "\n",
    "def writer(n, k, string_used):\n",
    "    res = \"\"\n",
    "    for j in range(k):\n",
    "        res += str(string_used)\n",
    "    return res\n",
    "            \n",
    "with open(\"cowsignal.out\", \"w\") as fout:\n",
    "\n",
    "    res = \"\"\n",
    "    for ch in string:\n",
    "        res += writer(n, k, ch)\n",
    "        if counter % n*2 == 0:\n",
    "            for i in range(k):\n",
    "                fout.write(res)\n",
    "                fout.write(\"\\n\")\n",
    "                \n",
    "            res = \"\"\n",
    "        counter +=1\n",
    "            \n",
    "        \n",
    "    \n",
    "    \n"
   ]
  },
  {
   "cell_type": "code",
   "execution_count": 123,
   "metadata": {},
   "outputs": [
    {
     "data": {
      "text/plain": [
       "['X',\n",
       " 'X',\n",
       " 'X',\n",
       " '.',\n",
       " 'X',\n",
       " '.',\n",
       " '.',\n",
       " 'X',\n",
       " 'X',\n",
       " 'X',\n",
       " 'X',\n",
       " '.',\n",
       " 'X',\n",
       " '.',\n",
       " '.',\n",
       " 'X',\n",
       " 'X',\n",
       " 'X',\n",
       " 'X',\n",
       " '.']"
      ]
     },
     "execution_count": 123,
     "metadata": {},
     "output_type": "execute_result"
    }
   ],
   "source": [
    "string"
   ]
  },
  {
   "cell_type": "code",
   "execution_count": 127,
   "metadata": {},
   "outputs": [
    {
     "data": {
      "text/plain": [
       "False"
      ]
     },
     "execution_count": 127,
     "metadata": {},
     "output_type": "execute_result"
    }
   ],
   "source": [
    "1%4 == 0"
   ]
  },
  {
   "cell_type": "code",
   "execution_count": 98,
   "metadata": {},
   "outputs": [
    {
     "data": {
      "text/plain": [
       "20"
      ]
     },
     "execution_count": 98,
     "metadata": {},
     "output_type": "execute_result"
    }
   ],
   "source": [
    "len(string)"
   ]
  },
  {
   "cell_type": "code",
   "execution_count": 132,
   "metadata": {},
   "outputs": [
    {
     "name": "stdout",
     "output_type": "stream",
     "text": [
      "f\n"
     ]
    }
   ],
   "source": []
  },
  {
   "cell_type": "code",
   "execution_count": 151,
   "metadata": {},
   "outputs": [
    {
     "data": {
      "text/plain": [
       "111"
      ]
     },
     "execution_count": 151,
     "metadata": {},
     "output_type": "execute_result"
    }
   ],
   "source": []
  },
  {
   "cell_type": "code",
   "execution_count": 160,
   "metadata": {},
   "outputs": [
    {
     "name": "stdout",
     "output_type": "stream",
     "text": [
      "False\n"
     ]
    }
   ],
   "source": [
    "string = \"fox\"\n",
    "\n",
    "print('l' in string)"
   ]
  },
  {
   "cell_type": "code",
   "execution_count": 181,
   "metadata": {},
   "outputs": [
    {
     "data": {
      "text/plain": [
       "-14"
      ]
     },
     "execution_count": 181,
     "metadata": {},
     "output_type": "execute_result"
    }
   ],
   "source": [
    "97-ord('o')"
   ]
  },
  {
   "cell_type": "code",
   "execution_count": null,
   "metadata": {},
   "outputs": [],
   "source": []
  }
 ],
 "metadata": {
  "kernelspec": {
   "display_name": "Python 3",
   "language": "python",
   "name": "python3"
  },
  "language_info": {
   "codemirror_mode": {
    "name": "ipython",
    "version": 3
   },
   "file_extension": ".py",
   "mimetype": "text/x-python",
   "name": "python",
   "nbconvert_exporter": "python",
   "pygments_lexer": "ipython3",
   "version": "3.7.1"
  }
 },
 "nbformat": 4,
 "nbformat_minor": 2
}
